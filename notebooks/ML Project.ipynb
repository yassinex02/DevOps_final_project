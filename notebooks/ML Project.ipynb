{
 "cells": [
  {
   "cell_type": "code",
   "execution_count": 2,
   "metadata": {},
   "outputs": [],
   "source": [
    "import pandas as pd\n",
    "import pandas as pd\n",
    "import numpy as np\n",
    "import seaborn as sns\n",
    "import matplotlib.pyplot as plt\n",
    "import os\n",
    "from sklearn.model_selection import train_test_split\n",
    "from sklearn.linear_model import LogisticRegression\n",
    "from sklearn.ensemble import RandomForestClassifier\n",
    "from sklearn.linear_model import SGDClassifier\n",
    "from sklearn.svm import SVC  \n",
    "from sklearn.metrics import accuracy_score\n",
    "from sklearn.metrics import classification_report\n",
    "\n",
    "from numpy import mean\n",
    "from sklearn.model_selection import cross_val_score\n",
    "from sklearn.model_selection import RepeatedStratifiedKFold\n",
    "from sklearn.metrics import confusion_matrix\n",
    "from sklearn.metrics import ConfusionMatrixDisplay\n",
    "from sklearn import metrics\n",
    "from sklearn.svm import SVC  \n",
    "from sklearn.linear_model import SGDClassifier\n",
    "from imblearn.under_sampling import RandomUnderSampler\n",
    "from collections import Counter"
   ]
  },
  {
   "cell_type": "code",
   "execution_count": 3,
   "metadata": {},
   "outputs": [],
   "source": [
    "#%%\n",
    "'''''\n",
    "Columns\t      Description\n",
    "\n",
    "age\t          Age in years\n",
    "ed\t          Level of education (1=Did not complete high school, 2=High school degree, 3=Some college, 4= college degree, 5=Post-undergraduate degree)\n",
    "employ\t      Years with current employer\n",
    "address\t      Years at current address\n",
    "income\t      Household income in thousands\n",
    "debtinc\t      Debt to income ratio (x100)\n",
    "creddebt\t  Credit card debt in thousands\n",
    "othdebt\t      Other debt in thousands\n",
    "default\t      Previously defaulted (1= defaulted, 0=Never defaulted)\n",
    "\n",
    "'''''\n",
    "\n",
    "sns.set_theme()\n",
    "IMAGES = \"images\"\n",
    "if not os.path.exists(\"images\"):\n",
    "    os.mkdir(IMAGES)"
   ]
  },
  {
   "cell_type": "code",
   "execution_count": 4,
   "metadata": {},
   "outputs": [
    {
     "data": {
      "text/html": [
       "<div>\n",
       "<style scoped>\n",
       "    .dataframe tbody tr th:only-of-type {\n",
       "        vertical-align: middle;\n",
       "    }\n",
       "\n",
       "    .dataframe tbody tr th {\n",
       "        vertical-align: top;\n",
       "    }\n",
       "\n",
       "    .dataframe thead th {\n",
       "        text-align: right;\n",
       "    }\n",
       "</style>\n",
       "<table border=\"1\" class=\"dataframe\">\n",
       "  <thead>\n",
       "    <tr style=\"text-align: right;\">\n",
       "      <th></th>\n",
       "      <th>age</th>\n",
       "      <th>ed</th>\n",
       "      <th>employ</th>\n",
       "      <th>address</th>\n",
       "      <th>income</th>\n",
       "      <th>debtinc</th>\n",
       "      <th>creddebt</th>\n",
       "      <th>othdebt</th>\n",
       "      <th>default</th>\n",
       "    </tr>\n",
       "  </thead>\n",
       "  <tbody>\n",
       "    <tr>\n",
       "      <th>0</th>\n",
       "      <td>41</td>\n",
       "      <td>3</td>\n",
       "      <td>17</td>\n",
       "      <td>12</td>\n",
       "      <td>35.9</td>\n",
       "      <td>11.90</td>\n",
       "      <td>0.504108</td>\n",
       "      <td>3.767992</td>\n",
       "      <td>0</td>\n",
       "    </tr>\n",
       "    <tr>\n",
       "      <th>1</th>\n",
       "      <td>30</td>\n",
       "      <td>1</td>\n",
       "      <td>13</td>\n",
       "      <td>8</td>\n",
       "      <td>46.7</td>\n",
       "      <td>17.88</td>\n",
       "      <td>1.352694</td>\n",
       "      <td>6.997266</td>\n",
       "      <td>0</td>\n",
       "    </tr>\n",
       "    <tr>\n",
       "      <th>2</th>\n",
       "      <td>40</td>\n",
       "      <td>1</td>\n",
       "      <td>15</td>\n",
       "      <td>14</td>\n",
       "      <td>61.8</td>\n",
       "      <td>10.64</td>\n",
       "      <td>3.438997</td>\n",
       "      <td>3.136523</td>\n",
       "      <td>0</td>\n",
       "    </tr>\n",
       "    <tr>\n",
       "      <th>3</th>\n",
       "      <td>41</td>\n",
       "      <td>1</td>\n",
       "      <td>15</td>\n",
       "      <td>14</td>\n",
       "      <td>72.0</td>\n",
       "      <td>29.67</td>\n",
       "      <td>4.165668</td>\n",
       "      <td>17.196732</td>\n",
       "      <td>0</td>\n",
       "    </tr>\n",
       "    <tr>\n",
       "      <th>4</th>\n",
       "      <td>57</td>\n",
       "      <td>1</td>\n",
       "      <td>7</td>\n",
       "      <td>37</td>\n",
       "      <td>25.6</td>\n",
       "      <td>15.86</td>\n",
       "      <td>1.498199</td>\n",
       "      <td>2.561961</td>\n",
       "      <td>0</td>\n",
       "    </tr>\n",
       "    <tr>\n",
       "      <th>5</th>\n",
       "      <td>45</td>\n",
       "      <td>1</td>\n",
       "      <td>0</td>\n",
       "      <td>13</td>\n",
       "      <td>28.1</td>\n",
       "      <td>4.28</td>\n",
       "      <td>0.924861</td>\n",
       "      <td>0.277819</td>\n",
       "      <td>0</td>\n",
       "    </tr>\n",
       "    <tr>\n",
       "      <th>6</th>\n",
       "      <td>36</td>\n",
       "      <td>1</td>\n",
       "      <td>1</td>\n",
       "      <td>3</td>\n",
       "      <td>19.6</td>\n",
       "      <td>12.82</td>\n",
       "      <td>1.211131</td>\n",
       "      <td>1.301589</td>\n",
       "      <td>1</td>\n",
       "    </tr>\n",
       "    <tr>\n",
       "      <th>7</th>\n",
       "      <td>39</td>\n",
       "      <td>1</td>\n",
       "      <td>20</td>\n",
       "      <td>9</td>\n",
       "      <td>80.5</td>\n",
       "      <td>12.32</td>\n",
       "      <td>1.854591</td>\n",
       "      <td>8.063009</td>\n",
       "      <td>0</td>\n",
       "    </tr>\n",
       "    <tr>\n",
       "      <th>8</th>\n",
       "      <td>43</td>\n",
       "      <td>1</td>\n",
       "      <td>12</td>\n",
       "      <td>11</td>\n",
       "      <td>68.7</td>\n",
       "      <td>6.82</td>\n",
       "      <td>1.429029</td>\n",
       "      <td>3.256311</td>\n",
       "      <td>0</td>\n",
       "    </tr>\n",
       "    <tr>\n",
       "      <th>9</th>\n",
       "      <td>34</td>\n",
       "      <td>3</td>\n",
       "      <td>7</td>\n",
       "      <td>12</td>\n",
       "      <td>33.8</td>\n",
       "      <td>10.71</td>\n",
       "      <td>1.422652</td>\n",
       "      <td>2.197328</td>\n",
       "      <td>0</td>\n",
       "    </tr>\n",
       "  </tbody>\n",
       "</table>\n",
       "</div>"
      ],
      "text/plain": [
       "   age ed  employ  address  income  debtinc  creddebt    othdebt default\n",
       "0   41  3      17       12    35.9    11.90  0.504108   3.767992       0\n",
       "1   30  1      13        8    46.7    17.88  1.352694   6.997266       0\n",
       "2   40  1      15       14    61.8    10.64  3.438997   3.136523       0\n",
       "3   41  1      15       14    72.0    29.67  4.165668  17.196732       0\n",
       "4   57  1       7       37    25.6    15.86  1.498199   2.561961       0\n",
       "5   45  1       0       13    28.1     4.28  0.924861   0.277819       0\n",
       "6   36  1       1        3    19.6    12.82  1.211131   1.301589       1\n",
       "7   39  1      20        9    80.5    12.32  1.854591   8.063009       0\n",
       "8   43  1      12       11    68.7     6.82  1.429029   3.256311       0\n",
       "9   34  3       7       12    33.8    10.71  1.422652   2.197328       0"
      ]
     },
     "execution_count": 4,
     "metadata": {},
     "output_type": "execute_result"
    }
   ],
   "source": [
    "loan = pd.read_csv('bankloan.csv')\n",
    "\n",
    "# loan.describe() \n",
    "\n",
    "# loan.info() \n",
    "\n",
    "for col in ['ed','default']:\n",
    "    loan[col] = loan[col].astype('category')\n",
    "\n",
    "loan.head(10)  "
   ]
  },
  {
   "cell_type": "code",
   "execution_count": 5,
   "metadata": {},
   "outputs": [
    {
     "name": "stdout",
     "output_type": "stream",
     "text": [
      "0    3744\n",
      "1    1256\n",
      "Name: default, dtype: int64\n",
      "0    0.7488\n",
      "1    0.2512\n",
      "Name: default, dtype: float64\n"
     ]
    }
   ],
   "source": [
    "#%%\n",
    "# Number of people who did and did not defaulted in the past\n",
    "#To check if our dataset is balanced\n",
    "print(loan[\"default\"].value_counts())\n",
    "print(loan[\"default\"].value_counts(normalize=True))"
   ]
  },
  {
   "cell_type": "code",
   "execution_count": 6,
   "metadata": {},
   "outputs": [
    {
     "name": "stderr",
     "output_type": "stream",
     "text": [
      "C:\\Users\\MoZeA\\AppData\\Local\\Temp\\ipykernel_27400\\1485048505.py:2: FutureWarning: The default value of numeric_only in DataFrameGroupBy.mean is deprecated. In a future version, numeric_only will default to False. Either specify numeric_only or select only columns which should be valid for the function.\n",
      "  loan.groupby(\"default\").mean()\n"
     ]
    },
    {
     "data": {
      "text/html": [
       "<div>\n",
       "<style scoped>\n",
       "    .dataframe tbody tr th:only-of-type {\n",
       "        vertical-align: middle;\n",
       "    }\n",
       "\n",
       "    .dataframe tbody tr th {\n",
       "        vertical-align: top;\n",
       "    }\n",
       "\n",
       "    .dataframe thead th {\n",
       "        text-align: right;\n",
       "    }\n",
       "</style>\n",
       "<table border=\"1\" class=\"dataframe\">\n",
       "  <thead>\n",
       "    <tr style=\"text-align: right;\">\n",
       "      <th></th>\n",
       "      <th>age</th>\n",
       "      <th>employ</th>\n",
       "      <th>address</th>\n",
       "      <th>income</th>\n",
       "      <th>debtinc</th>\n",
       "      <th>creddebt</th>\n",
       "      <th>othdebt</th>\n",
       "    </tr>\n",
       "    <tr>\n",
       "      <th>default</th>\n",
       "      <th></th>\n",
       "      <th></th>\n",
       "      <th></th>\n",
       "      <th></th>\n",
       "      <th></th>\n",
       "      <th></th>\n",
       "      <th></th>\n",
       "    </tr>\n",
       "  </thead>\n",
       "  <tbody>\n",
       "    <tr>\n",
       "      <th>0</th>\n",
       "      <td>36.236645</td>\n",
       "      <td>9.782051</td>\n",
       "      <td>8.974893</td>\n",
       "      <td>48.908600</td>\n",
       "      <td>8.612946</td>\n",
       "      <td>1.297557</td>\n",
       "      <td>2.895339</td>\n",
       "    </tr>\n",
       "    <tr>\n",
       "      <th>1</th>\n",
       "      <td>32.855096</td>\n",
       "      <td>5.489650</td>\n",
       "      <td>5.707006</td>\n",
       "      <td>44.005653</td>\n",
       "      <td>14.437142</td>\n",
       "      <td>2.613296</td>\n",
       "      <td>4.182136</td>\n",
       "    </tr>\n",
       "  </tbody>\n",
       "</table>\n",
       "</div>"
      ],
      "text/plain": [
       "               age    employ   address     income    debtinc  creddebt  \\\n",
       "default                                                                  \n",
       "0        36.236645  9.782051  8.974893  48.908600   8.612946  1.297557   \n",
       "1        32.855096  5.489650  5.707006  44.005653  14.437142  2.613296   \n",
       "\n",
       "          othdebt  \n",
       "default            \n",
       "0        2.895339  \n",
       "1        4.182136  "
      ]
     },
     "execution_count": 6,
     "metadata": {},
     "output_type": "execute_result"
    }
   ],
   "source": [
    "#To check if our dataset is balanced\n",
    "loan.groupby(\"default\").mean()"
   ]
  },
  {
   "cell_type": "code",
   "execution_count": 7,
   "metadata": {},
   "outputs": [
    {
     "data": {
      "text/plain": [
       "<Figure size 640x480 with 0 Axes>"
      ]
     },
     "metadata": {},
     "output_type": "display_data"
    },
    {
     "data": {
      "text/plain": [
       "<Figure size 563.5x500 with 0 Axes>"
      ]
     },
     "metadata": {},
     "output_type": "display_data"
    },
    {
     "data": {
      "text/plain": [
       "<Figure size 563.5x500 with 0 Axes>"
      ]
     },
     "metadata": {},
     "output_type": "display_data"
    },
    {
     "data": {
      "text/plain": [
       "<Figure size 563.5x500 with 0 Axes>"
      ]
     },
     "metadata": {},
     "output_type": "display_data"
    },
    {
     "data": {
      "text/plain": [
       "<Figure size 563.5x500 with 0 Axes>"
      ]
     },
     "metadata": {},
     "output_type": "display_data"
    },
    {
     "data": {
      "text/plain": [
       "<Figure size 563.5x500 with 0 Axes>"
      ]
     },
     "metadata": {},
     "output_type": "display_data"
    },
    {
     "data": {
      "text/plain": [
       "<Figure size 563.5x500 with 0 Axes>"
      ]
     },
     "metadata": {},
     "output_type": "display_data"
    },
    {
     "data": {
      "text/plain": [
       "<Figure size 563.5x500 with 0 Axes>"
      ]
     },
     "metadata": {},
     "output_type": "display_data"
    }
   ],
   "source": [
    "# Plotting Box Plots\n",
    "variables = [\"age\", \"ed\", \"employ\",\"address\",\"debtinc\",\"creddebt\",\"othdebt\"]\n",
    "for y in variables:\n",
    "    if y!=\"ed\":\n",
    "        sns.boxplot(data=loan ,x=\"default\",y=y)\n",
    "        plt.savefig(f\"{IMAGES}/boxplot_{y}.png\")\n",
    "        plt.clf()\n",
    "# Histogram by Default classes   \n",
    "for x in variables:\n",
    "    sns.displot(data=loan ,x=x,hue='default')\n",
    "    plt.savefig(f\"{IMAGES}/histhue_{x}.png\")\n",
    "    plt.clf()"
   ]
  },
  {
   "cell_type": "code",
   "execution_count": 8,
   "metadata": {},
   "outputs": [],
   "source": [
    "X=loan[loan.columns.drop('default')].values\n",
    "y=loan[\"default\"].values\n",
    "\n",
    "X_train, X_test, y_train, y_test = train_test_split(X, y, test_size=0.2,random_state=44,stratify=y)\n"
   ]
  },
  {
   "cell_type": "code",
   "execution_count": 9,
   "metadata": {},
   "outputs": [
    {
     "name": "stderr",
     "output_type": "stream",
     "text": [
      "c:\\Users\\MoZeA\\anaconda3\\lib\\site-packages\\sklearn\\linear_model\\_logistic.py:458: ConvergenceWarning: lbfgs failed to converge (status=1):\n",
      "STOP: TOTAL NO. of ITERATIONS REACHED LIMIT.\n",
      "\n",
      "Increase the number of iterations (max_iter) or scale the data as shown in:\n",
      "    https://scikit-learn.org/stable/modules/preprocessing.html\n",
      "Please also refer to the documentation for alternative solver options:\n",
      "    https://scikit-learn.org/stable/modules/linear_model.html#logistic-regression\n",
      "  n_iter_i = _check_optimize_result(\n"
     ]
    },
    {
     "name": "stdout",
     "output_type": "stream",
     "text": [
      "Logistic Regression accuracy =  0.798\n",
      "              precision    recall  f1-score   support\n",
      "\n",
      "           0       0.83      0.92      0.87       749\n",
      "           1       0.64      0.43      0.52       251\n",
      "\n",
      "    accuracy                           0.80      1000\n",
      "   macro avg       0.74      0.68      0.70      1000\n",
      "weighted avg       0.78      0.80      0.78      1000\n",
      "\n"
     ]
    },
    {
     "data": {
      "image/png": "[encoded data removed]",
      "text/plain": [
       "<Figure size 750x750 with 1 Axes>"
      ]
     },
     "metadata": {},
     "output_type": "display_data"
    },
    {
     "name": "stdout",
     "output_type": "stream",
     "text": [
      "\u001b[1m The result is telling us that we have:  798 correct predictions\u001b[1m\n",
      "\u001b[1m The result is telling us that we have:  202 incorrect predictions\u001b[1m\n",
      "\u001b[1m We have a total predictions of:  1000\n"
     ]
    },
    {
     "data": {
      "image/png": "[encoded data removed]",
      "text/plain": [
       "<Figure size 640x480 with 1 Axes>"
      ]
     },
     "metadata": {},
     "output_type": "display_data"
    }
   ],
   "source": [
    "\n",
    "log_reg = LogisticRegression(solver='lbfgs', random_state=44)\n",
    "log_reg.fit(X_train, y_train)\n",
    "\n",
    "\n",
    "\n",
    "Y_predictions = log_reg.predict(X_test) # Predicting the target variable in the test set\n",
    "print('Logistic Regression accuracy = ', accuracy_score(Y_predictions,y_test))\n",
    "\n",
    "\n",
    "conf_matrix = confusion_matrix(y_test, Y_predictions)\n",
    "#print(conf_matrix)\n",
    "print(classification_report(y_test, Y_predictions))\n",
    "\n",
    "fig, ax = plt.subplots(figsize=(7.5, 7.5))\n",
    "ax.matshow(conf_matrix, cmap=plt.cm.Blues, alpha=0.3)\n",
    "\n",
    "for i in range(conf_matrix.shape[0]):\n",
    "    for j in range(conf_matrix.shape[1]):\n",
    "        ax.text(x=j, y=i,s=conf_matrix[i, j], va='center', ha='center', size='xx-large')\n",
    " \n",
    "plt.xlabel('Predictions', fontsize=18)\n",
    "plt.ylabel('Actuals', fontsize=18)\n",
    "plt.title('Confusion Matrix', fontsize=18)\n",
    "plt.show()\n",
    "print(\"\\033[1m The result is telling us that we have: \",(conf_matrix[0,0]+conf_matrix[1,1]),\"correct predictions\\033[1m\")\n",
    "print(\"\\033[1m The result is telling us that we have: \",(conf_matrix[0,1]+conf_matrix[1,0]),\"incorrect predictions\\033[1m\")\n",
    "print(\"\\033[1m We have a total predictions of: \",(conf_matrix.sum()))\n",
    "\n",
    "\n",
    "y_pred_proba = log_reg.predict_proba(X_test)[::,1]\n",
    "fpr, tpr, _ = metrics.roc_curve(y_test,  y_pred_proba)\n",
    "auc = metrics.roc_auc_score(y_test, y_pred_proba)\n",
    "\n",
    "plt.plot(fpr,tpr,label=\"AUC=\"+str(auc))\n",
    "plt.ylabel('True Positive Rate')\n",
    "plt.xlabel('False Positive Rate')\n",
    "plt.legend(loc=4)\n",
    "plt.show()\n"
   ]
  },
  {
   "cell_type": "code",
   "execution_count": 10,
   "metadata": {},
   "outputs": [
    {
     "name": "stdout",
     "output_type": "stream",
     "text": [
      "Random Forest accuracy =  0.797\n",
      "              precision    recall  f1-score   support\n",
      "\n",
      "           0       0.82      0.93      0.87       749\n",
      "           1       0.65      0.41      0.51       251\n",
      "\n",
      "    accuracy                           0.80      1000\n",
      "   macro avg       0.74      0.67      0.69      1000\n",
      "weighted avg       0.78      0.80      0.78      1000\n",
      "\n",
      "S Gradient Descent =  0.78\n",
      "              precision    recall  f1-score   support\n",
      "\n",
      "           0       0.78      0.98      0.87       749\n",
      "           1       0.76      0.18      0.29       251\n",
      "\n",
      "    accuracy                           0.78      1000\n",
      "   macro avg       0.77      0.58      0.58      1000\n",
      "weighted avg       0.78      0.78      0.72      1000\n",
      "\n",
      "Support Vector Machine =  0.794\n",
      "              precision    recall  f1-score   support\n",
      "\n",
      "           0       0.82      0.94      0.87       749\n",
      "           1       0.66      0.37      0.47       251\n",
      "\n",
      "    accuracy                           0.79      1000\n",
      "   macro avg       0.74      0.65      0.67      1000\n",
      "weighted avg       0.78      0.79      0.77      1000\n",
      "\n"
     ]
    }
   ],
   "source": [
    "rand_forest = RandomForestClassifier(random_state=44)\n",
    "rand_forest.fit(X_train, y_train)\n",
    "\n",
    "Y_predictions = rand_forest.predict(X_test) # Predicting the target variable in the test set\n",
    "print('Random Forest accuracy = ', accuracy_score(Y_predictions,y_test))\n",
    "\n",
    "conf_matrix = confusion_matrix(y_test, Y_predictions)\n",
    "# print(conf_matrix)\n",
    "print(classification_report(y_test, Y_predictions))\n",
    "\n",
    "sgd = SGDClassifier(random_state=42)\n",
    "sgd.fit(X_train, y_train)\n",
    "Y_predictions = sgd.predict(X_test) # Predicting the target variable in the test set\n",
    "\n",
    "print('S Gradient Descent = ', accuracy_score(Y_predictions,y_test))\n",
    "conf_matrix = confusion_matrix(y_test, Y_predictions)\n",
    "#print(conf_matrix)\n",
    "print(classification_report(y_test, Y_predictions))\n",
    "# %%\n",
    "\n",
    "svm = SVC(kernel='linear')\n",
    "svm.fit(X_train, y_train)\n",
    "Y_predictions = svm.predict(X_test) # Predicting the target variable in the test set\n",
    "print('Support Vector Machine = ', accuracy_score(Y_predictions,y_test))\n",
    "\n",
    "conf_matrix = confusion_matrix(y_test, Y_predictions)\n",
    "# print(conf_matrix)\n",
    "print(classification_report(y_test, Y_predictions))"
   ]
  },
  {
   "cell_type": "code",
   "execution_count": 11,
   "metadata": {},
   "outputs": [
    {
     "name": "stdout",
     "output_type": "stream",
     "text": [
      "[(0, 1005), (1, 1005)]\n"
     ]
    }
   ],
   "source": [
    "\"\"\"\"\"\n",
    "UNDERSAMPLING\n",
    "\"\"\"\"\"\n",
    "\n",
    "RUS = RandomUnderSampler(random_state=44)\n",
    "\n",
    "#Fit the RUS\n",
    "X_train_rus, y_train_rus= RUS.fit_resample(X_train, y_train)\n",
    "\n",
    "# Check the number of records after under sampling\n",
    "print(sorted(Counter(y_train_rus).items()))\n",
    "# %%"
   ]
  },
  {
   "cell_type": "code",
   "execution_count": 12,
   "metadata": {},
   "outputs": [
    {
     "name": "stdout",
     "output_type": "stream",
     "text": [
      "Logistic Regression accuracy =  0.755\n"
     ]
    },
    {
     "data": {
      "image/png": "[encoded data removed]",
      "text/plain": [
       "<Figure size 750x750 with 1 Axes>"
      ]
     },
     "metadata": {},
     "output_type": "display_data"
    },
    {
     "name": "stdout",
     "output_type": "stream",
     "text": [
      "\u001b[1m The result is telling us that we have:  755 correct predictions\u001b[1m\n",
      "\u001b[1m The result is telling us that we have:  245 incorrect predictions\u001b[1m\n",
      "\u001b[1m We have a total predictions of:  1000\n",
      "              precision    recall  f1-score   support\n",
      "\n",
      "           0       0.91      0.75      0.82       749\n",
      "           1       0.51      0.77      0.61       251\n",
      "\n",
      "    accuracy                           0.76      1000\n",
      "   macro avg       0.71      0.76      0.72      1000\n",
      "weighted avg       0.81      0.76      0.77      1000\n",
      "\n",
      "Score Using CV:  0.7587064676616915\n"
     ]
    },
    {
     "data": {
      "image/png": "[encoded data removed]",
      "text/plain": [
       "<Figure size 640x480 with 1 Axes>"
      ]
     },
     "metadata": {},
     "output_type": "display_data"
    }
   ],
   "source": [
    "log_reg = LogisticRegression(solver='lbfgs', random_state=44)\n",
    "log_reg.fit(X_train_rus, y_train_rus)\n",
    "\n",
    "Y_predictions = log_reg.predict(X_test) # Predicting the target variable in the test set\n",
    "print('Logistic Regression accuracy = ', accuracy_score(Y_predictions,y_test))\n",
    "\n",
    "conf_matrix = confusion_matrix(y_test, Y_predictions)\n",
    "#print(conf_matrix)\n",
    "fig, ax = plt.subplots(figsize=(7.5, 7.5))\n",
    "ax.matshow(conf_matrix, cmap=plt.cm.Blues, alpha=0.3)\n",
    "\n",
    "for i in range(conf_matrix.shape[0]):\n",
    "    for j in range(conf_matrix.shape[1]):\n",
    "        ax.text(x=j, y=i,s=conf_matrix[i, j], va='center', ha='center', size='xx-large')\n",
    " \n",
    "plt.xlabel('Predictions', fontsize=18)\n",
    "plt.ylabel('Actuals', fontsize=18)\n",
    "plt.title('Confusion Matrix', fontsize=18)\n",
    "plt.show()\n",
    "print(\"\\033[1m The result is telling us that we have: \",(conf_matrix[0,0]+conf_matrix[1,1]),\"correct predictions\\033[1m\")\n",
    "print(\"\\033[1m The result is telling us that we have: \",(conf_matrix[0,1]+conf_matrix[1,0]),\"incorrect predictions\\033[1m\")\n",
    "print(\"\\033[1m We have a total predictions of: \",(conf_matrix.sum()))\n",
    "\n",
    "print(classification_report(y_test, Y_predictions))\n",
    "#%%\n",
    "log_reg_eval=cross_val_score(estimator=log_reg,X=X_train_rus,y=y_train_rus, cv=10)\n",
    "print(\"Score Using CV: \", log_reg_eval.mean())\n",
    "#%%\n",
    "#Metrics\n",
    "y_pred_proba = log_reg.predict_proba(X_test)[::,1]\n",
    "fpr, tpr, _ = metrics.roc_curve(y_test,  y_pred_proba)\n",
    "auc = metrics.roc_auc_score(y_test, y_pred_proba)\n",
    "\n",
    "#ROC CURVE\n",
    "plt.plot(fpr,tpr,label=\"AUC=\"+str(auc))\n",
    "plt.ylabel('True Positive Rate')\n",
    "plt.xlabel('False Positive Rate')\n",
    "plt.legend(loc=4)\n",
    "plt.show()"
   ]
  },
  {
   "cell_type": "code",
   "execution_count": 13,
   "metadata": {},
   "outputs": [
    {
     "name": "stdout",
     "output_type": "stream",
     "text": [
      "Random Forest accuracy =  0.716\n",
      "              precision    recall  f1-score   support\n",
      "\n",
      "           0       0.89      0.71      0.79       749\n",
      "           1       0.46      0.75      0.57       251\n",
      "\n",
      "    accuracy                           0.72      1000\n",
      "   macro avg       0.68      0.73      0.68      1000\n",
      "weighted avg       0.78      0.72      0.73      1000\n",
      "\n",
      "S Gradient Descent =  0.437\n",
      "[[192 557]\n",
      " [  6 245]]\n",
      "              precision    recall  f1-score   support\n",
      "\n",
      "           0       0.97      0.26      0.41       749\n",
      "           1       0.31      0.98      0.47       251\n",
      "\n",
      "    accuracy                           0.44      1000\n",
      "   macro avg       0.64      0.62      0.44      1000\n",
      "weighted avg       0.80      0.44      0.42      1000\n",
      "\n",
      "Support Vector Machine =  0.749\n",
      "[[550 199]\n",
      " [ 52 199]]\n",
      "              precision    recall  f1-score   support\n",
      "\n",
      "           0       0.91      0.73      0.81       749\n",
      "           1       0.50      0.79      0.61       251\n",
      "\n",
      "    accuracy                           0.75      1000\n",
      "   macro avg       0.71      0.76      0.71      1000\n",
      "weighted avg       0.81      0.75      0.76      1000\n",
      "\n"
     ]
    }
   ],
   "source": [
    "#%%\n",
    "rand_forest = RandomForestClassifier(random_state=44)\n",
    "rand_forest.fit(X_train_rus, y_train_rus)\n",
    "\n",
    "Y_predictions = rand_forest.predict(X_test) # Predicting the target variable in the test set\n",
    "print('Random Forest accuracy = ', accuracy_score(Y_predictions,y_test))\n",
    "\n",
    "conf_matrix = confusion_matrix(y_test, Y_predictions)\n",
    "#print(conf_matrix)\n",
    "print(classification_report(y_test, Y_predictions))\n",
    "\n",
    "# %%\n",
    "from sklearn.linear_model import SGDClassifier\n",
    "sgd = SGDClassifier(random_state=42)\n",
    "sgd.fit(X_train_rus, y_train_rus)\n",
    "Y_predictions = sgd.predict(X_test) # Predicting the target variable in the test set\n",
    "\n",
    "print('S Gradient Descent = ', accuracy_score(Y_predictions,y_test))\n",
    "conf_matrix = confusion_matrix(y_test, Y_predictions)\n",
    "print(conf_matrix)\n",
    "print(classification_report(y_test, Y_predictions))\n",
    "#%%\n",
    "from sklearn.svm import SVC  \n",
    "svm = SVC(kernel='linear')\n",
    "svm.fit(X_train_rus, y_train_rus)\n",
    "Y_predictions = svm.predict(X_test) # Predicting the target variable in the test set\n",
    "print('Support Vector Machine = ', accuracy_score(Y_predictions,y_test))\n",
    "\n",
    "conf_matrix = confusion_matrix(y_test, Y_predictions)\n",
    "print(conf_matrix)\n",
    "print(classification_report(y_test, Y_predictions))"
   ]
  }
 ],
 "metadata": {
  "kernelspec": {
   "display_name": "base",
   "language": "python",
   "name": "python3"
  },
  "language_info": {
   "codemirror_mode": {
    "name": "ipython",
    "version": 3
   },
   "file_extension": ".py",
   "mimetype": "text/x-python",
   "name": "python",
   "nbconvert_exporter": "python",
   "pygments_lexer": "ipython3",
   "version": "3.9.18"
  }
 },
 "nbformat": 4,
 "nbformat_minor": 2
}
