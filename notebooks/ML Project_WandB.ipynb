{
 "cells": [
  {
   "cell_type": "code",
   "execution_count": 1,
   "metadata": {},
   "outputs": [],
   "source": [
    "import pandas as pd\n",
    "import pandas as pd\n",
    "import numpy as np\n",
    "import seaborn as sns\n",
    "import matplotlib.pyplot as plt\n",
    "from sklearn.linear_model import LogisticRegression\n",
    "import wandb\n",
    "import wandb.sklearn\n",
    "import os\n",
    "from sklearn.metrics import accuracy_score, precision_score, recall_score, roc_auc_score, f1_score, confusion_matrix\n",
    "from sklearn.model_selection import train_test_split\n",
    "from sklearn.preprocessing import StandardScaler\n",
    "from imblearn.under_sampling import RandomUnderSampler\n",
    "from collections import Counter\n",
    "import pickle"
   ]
  },
  {
   "cell_type": "code",
   "execution_count": 2,
   "metadata": {},
   "outputs": [
    {
     "data": {
      "text/html": [
       "<div>\n",
       "<style scoped>\n",
       "    .dataframe tbody tr th:only-of-type {\n",
       "        vertical-align: middle;\n",
       "    }\n",
       "\n",
       "    .dataframe tbody tr th {\n",
       "        vertical-align: top;\n",
       "    }\n",
       "\n",
       "    .dataframe thead th {\n",
       "        text-align: right;\n",
       "    }\n",
       "</style>\n",
       "<table border=\"1\" class=\"dataframe\">\n",
       "  <thead>\n",
       "    <tr style=\"text-align: right;\">\n",
       "      <th></th>\n",
       "      <th>age</th>\n",
       "      <th>ed</th>\n",
       "      <th>employ</th>\n",
       "      <th>address</th>\n",
       "      <th>income</th>\n",
       "      <th>debtinc</th>\n",
       "      <th>creddebt</th>\n",
       "      <th>othdebt</th>\n",
       "      <th>default</th>\n",
       "    </tr>\n",
       "  </thead>\n",
       "  <tbody>\n",
       "    <tr>\n",
       "      <th>count</th>\n",
       "      <td>5000.000000</td>\n",
       "      <td>5000.000000</td>\n",
       "      <td>5000.000000</td>\n",
       "      <td>5000.000000</td>\n",
       "      <td>5000.000000</td>\n",
       "      <td>5000.000000</td>\n",
       "      <td>5000.000000</td>\n",
       "      <td>5000.000000</td>\n",
       "      <td>5000.000000</td>\n",
       "    </tr>\n",
       "    <tr>\n",
       "      <th>mean</th>\n",
       "      <td>35.387200</td>\n",
       "      <td>1.730600</td>\n",
       "      <td>8.703800</td>\n",
       "      <td>8.154000</td>\n",
       "      <td>47.676980</td>\n",
       "      <td>10.075984</td>\n",
       "      <td>1.628071</td>\n",
       "      <td>3.218582</td>\n",
       "      <td>0.251200</td>\n",
       "    </tr>\n",
       "    <tr>\n",
       "      <th>std</th>\n",
       "      <td>7.948403</td>\n",
       "      <td>0.960525</td>\n",
       "      <td>7.194583</td>\n",
       "      <td>6.760786</td>\n",
       "      <td>51.793192</td>\n",
       "      <td>6.659336</td>\n",
       "      <td>3.053369</td>\n",
       "      <td>6.944523</td>\n",
       "      <td>0.433747</td>\n",
       "    </tr>\n",
       "    <tr>\n",
       "      <th>min</th>\n",
       "      <td>20.000000</td>\n",
       "      <td>1.000000</td>\n",
       "      <td>0.000000</td>\n",
       "      <td>0.000000</td>\n",
       "      <td>12.100000</td>\n",
       "      <td>0.080000</td>\n",
       "      <td>0.005292</td>\n",
       "      <td>0.009373</td>\n",
       "      <td>0.000000</td>\n",
       "    </tr>\n",
       "    <tr>\n",
       "      <th>25%</th>\n",
       "      <td>29.000000</td>\n",
       "      <td>1.000000</td>\n",
       "      <td>3.000000</td>\n",
       "      <td>3.000000</td>\n",
       "      <td>24.500000</td>\n",
       "      <td>5.050000</td>\n",
       "      <td>0.396181</td>\n",
       "      <td>0.990071</td>\n",
       "      <td>0.000000</td>\n",
       "    </tr>\n",
       "    <tr>\n",
       "      <th>50%</th>\n",
       "      <td>35.000000</td>\n",
       "      <td>1.000000</td>\n",
       "      <td>7.000000</td>\n",
       "      <td>7.000000</td>\n",
       "      <td>34.500000</td>\n",
       "      <td>8.635000</td>\n",
       "      <td>0.906189</td>\n",
       "      <td>1.960223</td>\n",
       "      <td>0.000000</td>\n",
       "    </tr>\n",
       "    <tr>\n",
       "      <th>75%</th>\n",
       "      <td>41.000000</td>\n",
       "      <td>2.000000</td>\n",
       "      <td>13.000000</td>\n",
       "      <td>12.000000</td>\n",
       "      <td>54.725000</td>\n",
       "      <td>13.682500</td>\n",
       "      <td>1.859147</td>\n",
       "      <td>3.789633</td>\n",
       "      <td>1.000000</td>\n",
       "    </tr>\n",
       "    <tr>\n",
       "      <th>max</th>\n",
       "      <td>58.000000</td>\n",
       "      <td>5.000000</td>\n",
       "      <td>38.000000</td>\n",
       "      <td>37.000000</td>\n",
       "      <td>2461.700000</td>\n",
       "      <td>44.620000</td>\n",
       "      <td>139.580606</td>\n",
       "      <td>416.517424</td>\n",
       "      <td>1.000000</td>\n",
       "    </tr>\n",
       "  </tbody>\n",
       "</table>\n",
       "</div>"
      ],
      "text/plain": [
       "               age           ed       employ      address       income  \\\n",
       "count  5000.000000  5000.000000  5000.000000  5000.000000  5000.000000   \n",
       "mean     35.387200     1.730600     8.703800     8.154000    47.676980   \n",
       "std       7.948403     0.960525     7.194583     6.760786    51.793192   \n",
       "min      20.000000     1.000000     0.000000     0.000000    12.100000   \n",
       "25%      29.000000     1.000000     3.000000     3.000000    24.500000   \n",
       "50%      35.000000     1.000000     7.000000     7.000000    34.500000   \n",
       "75%      41.000000     2.000000    13.000000    12.000000    54.725000   \n",
       "max      58.000000     5.000000    38.000000    37.000000  2461.700000   \n",
       "\n",
       "           debtinc     creddebt      othdebt      default  \n",
       "count  5000.000000  5000.000000  5000.000000  5000.000000  \n",
       "mean     10.075984     1.628071     3.218582     0.251200  \n",
       "std       6.659336     3.053369     6.944523     0.433747  \n",
       "min       0.080000     0.005292     0.009373     0.000000  \n",
       "25%       5.050000     0.396181     0.990071     0.000000  \n",
       "50%       8.635000     0.906189     1.960223     0.000000  \n",
       "75%      13.682500     1.859147     3.789633     1.000000  \n",
       "max      44.620000   139.580606   416.517424     1.000000  "
      ]
     },
     "execution_count": 2,
     "metadata": {},
     "output_type": "execute_result"
    }
   ],
   "source": [
    "df = pd.read_csv('bankloan.csv')\n",
    "\n",
    "df.describe()"
   ]
  },
  {
   "cell_type": "code",
   "execution_count": 3,
   "metadata": {},
   "outputs": [
    {
     "data": {
      "text/html": [
       "<div>\n",
       "<style scoped>\n",
       "    .dataframe tbody tr th:only-of-type {\n",
       "        vertical-align: middle;\n",
       "    }\n",
       "\n",
       "    .dataframe tbody tr th {\n",
       "        vertical-align: top;\n",
       "    }\n",
       "\n",
       "    .dataframe thead th {\n",
       "        text-align: right;\n",
       "    }\n",
       "</style>\n",
       "<table border=\"1\" class=\"dataframe\">\n",
       "  <thead>\n",
       "    <tr style=\"text-align: right;\">\n",
       "      <th></th>\n",
       "      <th>age</th>\n",
       "      <th>ed</th>\n",
       "      <th>employ</th>\n",
       "      <th>address</th>\n",
       "      <th>income</th>\n",
       "      <th>debtinc</th>\n",
       "      <th>creddebt</th>\n",
       "      <th>othdebt</th>\n",
       "      <th>default</th>\n",
       "    </tr>\n",
       "  </thead>\n",
       "  <tbody>\n",
       "    <tr>\n",
       "      <th>0</th>\n",
       "      <td>41</td>\n",
       "      <td>3</td>\n",
       "      <td>17</td>\n",
       "      <td>12</td>\n",
       "      <td>35.9</td>\n",
       "      <td>11.90</td>\n",
       "      <td>0.504108</td>\n",
       "      <td>3.767992</td>\n",
       "      <td>0</td>\n",
       "    </tr>\n",
       "    <tr>\n",
       "      <th>1</th>\n",
       "      <td>30</td>\n",
       "      <td>1</td>\n",
       "      <td>13</td>\n",
       "      <td>8</td>\n",
       "      <td>46.7</td>\n",
       "      <td>17.88</td>\n",
       "      <td>1.352694</td>\n",
       "      <td>6.997266</td>\n",
       "      <td>0</td>\n",
       "    </tr>\n",
       "    <tr>\n",
       "      <th>2</th>\n",
       "      <td>40</td>\n",
       "      <td>1</td>\n",
       "      <td>15</td>\n",
       "      <td>14</td>\n",
       "      <td>61.8</td>\n",
       "      <td>10.64</td>\n",
       "      <td>3.438997</td>\n",
       "      <td>3.136523</td>\n",
       "      <td>0</td>\n",
       "    </tr>\n",
       "    <tr>\n",
       "      <th>3</th>\n",
       "      <td>41</td>\n",
       "      <td>1</td>\n",
       "      <td>15</td>\n",
       "      <td>14</td>\n",
       "      <td>72.0</td>\n",
       "      <td>29.67</td>\n",
       "      <td>4.165668</td>\n",
       "      <td>17.196732</td>\n",
       "      <td>0</td>\n",
       "    </tr>\n",
       "    <tr>\n",
       "      <th>4</th>\n",
       "      <td>57</td>\n",
       "      <td>1</td>\n",
       "      <td>7</td>\n",
       "      <td>37</td>\n",
       "      <td>25.6</td>\n",
       "      <td>15.86</td>\n",
       "      <td>1.498199</td>\n",
       "      <td>2.561961</td>\n",
       "      <td>0</td>\n",
       "    </tr>\n",
       "  </tbody>\n",
       "</table>\n",
       "</div>"
      ],
      "text/plain": [
       "   age  ed  employ  address  income  debtinc  creddebt    othdebt  default\n",
       "0   41   3      17       12    35.9    11.90  0.504108   3.767992        0\n",
       "1   30   1      13        8    46.7    17.88  1.352694   6.997266        0\n",
       "2   40   1      15       14    61.8    10.64  3.438997   3.136523        0\n",
       "3   41   1      15       14    72.0    29.67  4.165668  17.196732        0\n",
       "4   57   1       7       37    25.6    15.86  1.498199   2.561961        0"
      ]
     },
     "execution_count": 3,
     "metadata": {},
     "output_type": "execute_result"
    }
   ],
   "source": [
    "df.head()"
   ]
  },
  {
   "cell_type": "code",
   "execution_count": 4,
   "metadata": {},
   "outputs": [],
   "source": [
    "#Factorize the categorical variables  factorize_cols: ['ed']\n",
    "\n",
    "df['ed'] = pd.factorize(df['ed'])[0]\n",
    "\n",
    "#standardize the numerical variables  \n",
    "numerical_cols =['age', 'employ', 'address', 'income', 'debtinc', 'creddebt', 'othdebt']\n",
    "\n",
    "scaler = StandardScaler()\n",
    "\n",
    "df[numerical_cols] = scaler.fit_transform(df[numerical_cols])\n",
    "\n"
   ]
  },
  {
   "cell_type": "code",
   "execution_count": 5,
   "metadata": {},
   "outputs": [],
   "source": [
    "X=df[df.columns.drop('default')].values\n",
    "\n",
    "y=df[\"default\"].values\n",
    "\n",
    "X_train, X_test, y_train, y_test = train_test_split(X, y, test_size=0.2,random_state=44)"
   ]
  },
  {
   "cell_type": "code",
   "execution_count": 6,
   "metadata": {},
   "outputs": [
    {
     "name": "stdout",
     "output_type": "stream",
     "text": [
      "[(0, 1013), (1, 1013)]\n"
     ]
    }
   ],
   "source": [
    "RUS = RandomUnderSampler(random_state=44)\n",
    "\n",
    "#Fit the RUS\n",
    "X_train_rus, y_train_rus= RUS.fit_resample(X_train, y_train)\n",
    "\n",
    "# Check the number of records after under sampling\n",
    "print(sorted(Counter(y_train_rus).items()))"
   ]
  },
  {
   "cell_type": "code",
   "execution_count": 7,
   "metadata": {},
   "outputs": [],
   "source": [
    "def train_logistic_regression(X_train, y_train, X_test, hyperparameters):\n",
    "    model = LogisticRegression(**hyperparameters)\n",
    "    model.fit(X_train, y_train)\n",
    "    y_pred = model.predict(X_test)\n",
    "    return model, y_pred\n",
    "\n",
    "def calculate_performance_metrics(y_test, y_pred, model, X_test):\n",
    "    metrics = {}\n",
    "    metrics[\"accuracy\"] = accuracy_score(y_test, y_pred)\n",
    "    metrics[\"precision\"] = precision_score(y_test, y_pred)\n",
    "    metrics[\"recall\"] = recall_score(y_test, y_pred)\n",
    "    metrics[\"f1\"] = f1_score(y_test, y_pred)\n",
    "    metrics[\"roc_auc\"] = roc_auc_score(y_test, model.predict_proba(X_test)[:, 1])\n",
    "    \n",
    "    conf_matrix = confusion_matrix(y_test, y_pred)\n",
    "    TN, FP, FN, TP = conf_matrix.ravel()\n",
    "    \n",
    "    metrics[\"ppv\"] = TP / (TP + FP)\n",
    "    metrics[\"npv\"] = TN / (TN + FN)\n",
    "    metrics[\"specificity\"] = TN / (TN + FP)\n",
    "    \n",
    "    return metrics\n",
    "\n",
    "def log_to_wandb(metrics, model, X_train, X_test, y_train, y_test):\n",
    "    # Log metrics\n",
    "    wandb.log(metrics)\n",
    "    \n",
    "    # Save and log the model\n",
    "    os.makedirs('models', exist_ok=True)\n",
    "    model_path = \"models/log_model.pkl\"\n",
    "    with open(model_path, \"wb\") as f:\n",
    "        pickle.dump(model, f)\n",
    "    \n",
    "    artifact = wandb.Artifact(\"log_model\", type=\"model\")\n",
    "    artifact.add_file(model_path)\n",
    "    wandb.log_artifact(artifact)\n",
    "    \n",
    "    # Save and log the data\n",
    "    os.makedirs('data', exist_ok=True)\n",
    "    datasets = {\"training_data\": pd.DataFrame(X_train), \"training_labels\": pd.DataFrame(y_train), \n",
    "                \"test_data\": pd.DataFrame(X_test), \"test_labels\": pd.DataFrame(y_test)}\n",
    "    \n",
    "    for name, df in datasets.items():\n",
    "        df.to_csv(f'data/{name}.csv', index=False)\n",
    "    \n",
    "    artifact = wandb.Artifact('train_val_sets', type='dataset', metadata={\"Source\": \"CaseStudy_training_data.xlsx\"})\n",
    "    artifact.add_dir('data')\n",
    "    wandb.log_artifact(artifact)\n",
    "    \n",
    "    \n",
    "    # Plot plots to Weights & Biases\n",
    "    label_names = [\"Not-Defaulted\", \"Defaulted\"]\n",
    "    y_pred_proba = model.predict_proba(X_test)\n",
    "    \n",
    "    wandb.sklearn.plot_class_proportions(y_train, y_test, label_names)\n",
    "    wandb.sklearn.plot_summary_metrics(model, X_train, y_train, X_test, y_test)\n",
    "    wandb.sklearn.plot_roc(y_test, y_pred_proba, labels=label_names)\n",
    "    wandb.sklearn.plot_precision_recall(y_test, y_pred_proba, labels=label_names)\n",
    "    wandb.sklearn.plot_confusion_matrix(y_test, y_pred_proba.argmax(axis=1), labels=label_names)\n",
    "    "
   ]
  },
  {
   "cell_type": "code",
   "execution_count": 8,
   "metadata": {},
   "outputs": [],
   "source": [
    "# Random Search Hyperparameters\n",
    "sweep_config = {\n",
    "    'method': 'random',\n",
    "    'metric': {\n",
    "      'name': 'recall', # \n",
    "      'goal': 'maximize'\n",
    "    },\n",
    "    'parameters': {\n",
    "        'C': {\n",
    "            'values': [0.1, 1, 10]\n",
    "        },\n",
    "        'max_iter': {\n",
    "            'values': [100, 200, 300]\n",
    "        },\n",
    "        'penalty': {\n",
    "            'values': ['l1', 'l2']\n",
    "        },\n",
    "        'solver': {\n",
    "            'values': ['liblinear', 'saga']\n",
    "        },\n",
    "        'class_weight': {\n",
    "            'values': ['balanced', None]\n",
    "        }\n",
    "    }\n",
    "}"
   ]
  },
  {
   "cell_type": "code",
   "execution_count": 9,
   "metadata": {},
   "outputs": [],
   "source": [
    "\n",
    "\n",
    "# Grid Search Hyperparameters\n",
    "sweep_config = {\n",
    "    'method': 'grid',\n",
    "    'metric': {\n",
    "      'name': 'recall',\n",
    "      'goal': 'maximize'\n",
    "    },\n",
    "    'parameters': {\n",
    "        'C': {\n",
    "            'values': [0.1, 1, 10]\n",
    "        },\n",
    "        'max_iter': {\n",
    "            'values': [100, 200, 300]\n",
    "        },\n",
    "        'penalty': {\n",
    "            'values': ['l1', 'l2']\n",
    "        },\n",
    "        'solver': {\n",
    "            'values': ['liblinear', 'saga']\n",
    "        },\n",
    "        'class_weight': {\n",
    "            'values': ['balanced', None]\n",
    "        }\n",
    "    }\n",
    "}\n",
    "\n"
   ]
  },
  {
   "cell_type": "code",
   "execution_count": 10,
   "metadata": {},
   "outputs": [],
   "source": [
    "# Bayesian Search Hyperparameters\n",
    "sweep_config = {\n",
    "    'method': 'bayes',\n",
    "    'metric': {\n",
    "      'name': 'recall',\n",
    "      'goal': 'maximize'\n",
    "    },\n",
    "    'parameters': {\n",
    "        'C': {\n",
    "            'distribution': 'uniform',\n",
    "            'min': 0.1,\n",
    "            'max': 10\n",
    "        },\n",
    "        'max_iter': {\n",
    "            'distribution': 'int_uniform',\n",
    "            'min': 100,\n",
    "            'max': 300\n",
    "        },\n",
    "        'penalty': {\n",
    "            'values': ['l1', 'l2']\n",
    "        },\n",
    "        'solver': {\n",
    "            'values': ['liblinear', 'saga']\n",
    "        },\n",
    "        'class_weight': {\n",
    "            'values': ['balanced', None]\n",
    "        }\n",
    "    }\n",
    "}"
   ]
  },
  {
   "cell_type": "code",
   "execution_count": 11,
   "metadata": {},
   "outputs": [],
   "source": [
    "def sweep():\n",
    "    # Initialize wandb\n",
    "    run = wandb.init()\n",
    "    \n",
    "    # Get hyperparameters from wandb\n",
    "    hyperparameters = run.config\n",
    "    \n",
    "    # Train the logistic regression model\n",
    "    model, y_pred = train_logistic_regression(X_train_rus, y_train_rus, X_test, hyperparameters)\n",
    "    \n",
    "    # Calculate performance metrics\n",
    "    metrics = calculate_performance_metrics(y_test, y_pred, model, X_test)\n",
    "    \n",
    "    # Log to wandb\n",
    "    log_to_wandb(metrics, model, X_train, X_test, y_train, y_test)\n",
    "    \n",
    "    # Finish the wandb run\n",
    "    run.finish()\n",
    "\n",
    "    "
   ]
  },
  {
   "cell_type": "code",
   "execution_count": 12,
   "metadata": {},
   "outputs": [
    {
     "name": "stderr",
     "output_type": "stream",
     "text": [
      "Failed to detect the name of this notebook, you can set it manually with the WANDB_NOTEBOOK_NAME environment variable to enable code saving.\n"
     ]
    },
    {
     "name": "stdout",
     "output_type": "stream",
     "text": [
      "Create sweep with ID: mj1wox45\n",
      "Sweep URL: https://wandb.ai/mozeart/bankloan_sweep/sweeps/mj1wox45\n"
     ]
    },
    {
     "name": "stderr",
     "output_type": "stream",
     "text": [
      "\u001b[34m\u001b[1mwandb\u001b[0m: Agent Starting Run: cjjn9ek5 with config:\n",
      "\u001b[34m\u001b[1mwandb\u001b[0m: \tC: 7.408540810372477\n",
      "\u001b[34m\u001b[1mwandb\u001b[0m: \tclass_weight: balanced\n",
      "\u001b[34m\u001b[1mwandb\u001b[0m: \tmax_iter: 146\n",
      "\u001b[34m\u001b[1mwandb\u001b[0m: \tpenalty: l2\n",
      "\u001b[34m\u001b[1mwandb\u001b[0m: \tsolver: saga\n",
      "Failed to detect the name of this notebook, you can set it manually with the WANDB_NOTEBOOK_NAME environment variable to enable code saving.\n",
      "\u001b[34m\u001b[1mwandb\u001b[0m: Currently logged in as: \u001b[33mmozeart\u001b[0m. Use \u001b[1m`wandb login --relogin`\u001b[0m to force relogin\n"
     ]
    },
    {
     "data": {
      "text/html": [
       "wandb version 0.16.1 is available!  To upgrade, please run:\n",
       " $ pip install wandb --upgrade"
      ],
      "text/plain": [
       "<IPython.core.display.HTML object>"
      ]
     },
     "metadata": {},
     "output_type": "display_data"
    },
    {
     "data": {
      "text/html": [
       "Tracking run with wandb version 0.16.0"
      ],
      "text/plain": [
       "<IPython.core.display.HTML object>"
      ]
     },
     "metadata": {},
     "output_type": "display_data"
    },
    {
     "data": {
      "text/html": [
       "Run data is saved locally in <code>c:\\Users\\MoZeA\\OneDrive\\Bureau\\Data Courses\\Elective\\Dev(ML)Ops Engineering\\DevOps_final_project\\notebooks\\wandb\\run-20231209_192059-cjjn9ek5</code>"
      ],
      "text/plain": [
       "<IPython.core.display.HTML object>"
      ]
     },
     "metadata": {},
     "output_type": "display_data"
    },
    {
     "data": {
      "text/html": [
       "Syncing run <strong><a href='https://wandb.ai/mozeart/bankloan_sweep/runs/cjjn9ek5' target=\"_blank\">efficient-sweep-1</a></strong> to <a href='https://wandb.ai/mozeart/bankloan_sweep' target=\"_blank\">Weights & Biases</a> (<a href='https://wandb.me/run' target=\"_blank\">docs</a>)<br/>Sweep page: <a href='https://wandb.ai/mozeart/bankloan_sweep/sweeps/mj1wox45' target=\"_blank\">https://wandb.ai/mozeart/bankloan_sweep/sweeps/mj1wox45</a>"
      ],
      "text/plain": [
       "<IPython.core.display.HTML object>"
      ]
     },
     "metadata": {},
     "output_type": "display_data"
    },
    {
     "data": {
      "text/html": [
       " View project at <a href='https://wandb.ai/mozeart/bankloan_sweep' target=\"_blank\">https://wandb.ai/mozeart/bankloan_sweep</a>"
      ],
      "text/plain": [
       "<IPython.core.display.HTML object>"
      ]
     },
     "metadata": {},
     "output_type": "display_data"
    },
    {
     "data": {
      "text/html": [
       " View sweep at <a href='https://wandb.ai/mozeart/bankloan_sweep/sweeps/mj1wox45' target=\"_blank\">https://wandb.ai/mozeart/bankloan_sweep/sweeps/mj1wox45</a>"
      ],
      "text/plain": [
       "<IPython.core.display.HTML object>"
      ]
     },
     "metadata": {},
     "output_type": "display_data"
    },
    {
     "data": {
      "text/html": [
       " View run at <a href='https://wandb.ai/mozeart/bankloan_sweep/runs/cjjn9ek5' target=\"_blank\">https://wandb.ai/mozeart/bankloan_sweep/runs/cjjn9ek5</a>"
      ],
      "text/plain": [
       "<IPython.core.display.HTML object>"
      ]
     },
     "metadata": {},
     "output_type": "display_data"
    },
    {
     "name": "stderr",
     "output_type": "stream",
     "text": [
      "\u001b[34m\u001b[1mwandb\u001b[0m: Adding directory to artifact (.\\data)... Done. 0.0s\n",
      "\u001b[34m\u001b[1mwandb\u001b[0m: \u001b[33mWARNING\u001b[0m wandb.plots.* functions are deprecated and will be removed in a future release. Please use wandb.plot.* instead.\n"
     ]
    },
    {
     "data": {
      "application/vnd.jupyter.widget-view+json": {
       "model_id": "5f4bd39afa994c42ae98b0039049f99f",
       "version_major": 2,
       "version_minor": 0
      },
      "text/plain": [
       "VBox(children=(Label(value='0.740 MB of 0.740 MB uploaded\\r'), FloatProgress(value=0.9997397698638043, max=1.0…"
      ]
     },
     "metadata": {},
     "output_type": "display_data"
    },
    {
     "data": {
      "text/html": [
       "<style>\n",
       "    table.wandb td:nth-child(1) { padding: 0 10px; text-align: left ; width: auto;} td:nth-child(2) {text-align: left ; width: 100%}\n",
       "    .wandb-row { display: flex; flex-direction: row; flex-wrap: wrap; justify-content: flex-start; width: 100% }\n",
       "    .wandb-col { display: flex; flex-direction: column; flex-basis: 100%; flex: 1; padding: 10px; }\n",
       "    </style>\n",
       "<div class=\"wandb-row\"><div class=\"wandb-col\"><h3>Run history:</h3><br/><table class=\"wandb\"><tr><td>accuracy</td><td>▁</td></tr><tr><td>f1</td><td>▁</td></tr><tr><td>npv</td><td>▁</td></tr><tr><td>ppv</td><td>▁</td></tr><tr><td>precision</td><td>▁</td></tr><tr><td>recall</td><td>▁</td></tr><tr><td>roc_auc</td><td>▁</td></tr><tr><td>specificity</td><td>▁</td></tr></table><br/></div><div class=\"wandb-col\"><h3>Run summary:</h3><br/><table class=\"wandb\"><tr><td>accuracy</td><td>0.75</td></tr><tr><td>f1</td><td>0.60443</td></tr><tr><td>npv</td><td>0.91489</td></tr><tr><td>ppv</td><td>0.491</td></tr><tr><td>precision</td><td>0.491</td></tr><tr><td>recall</td><td>0.78601</td></tr><tr><td>roc_auc</td><td>0.8426</td></tr><tr><td>specificity</td><td>0.73844</td></tr></table><br/></div></div>"
      ],
      "text/plain": [
       "<IPython.core.display.HTML object>"
      ]
     },
     "metadata": {},
     "output_type": "display_data"
    },
    {
     "data": {
      "text/html": [
       " View run <strong style=\"color:#cdcd00\">efficient-sweep-1</strong> at: <a href='https://wandb.ai/mozeart/bankloan_sweep/runs/cjjn9ek5' target=\"_blank\">https://wandb.ai/mozeart/bankloan_sweep/runs/cjjn9ek5</a><br/>Synced 6 W&B file(s), 5 media file(s), 10 artifact file(s) and 0 other file(s)"
      ],
      "text/plain": [
       "<IPython.core.display.HTML object>"
      ]
     },
     "metadata": {},
     "output_type": "display_data"
    },
    {
     "data": {
      "text/html": [
       "Find logs at: <code>.\\wandb\\run-20231209_192059-cjjn9ek5\\logs</code>"
      ],
      "text/plain": [
       "<IPython.core.display.HTML object>"
      ]
     },
     "metadata": {},
     "output_type": "display_data"
    },
    {
     "name": "stderr",
     "output_type": "stream",
     "text": [
      "\u001b[34m\u001b[1mwandb\u001b[0m: Agent Starting Run: cdj4w899 with config:\n",
      "\u001b[34m\u001b[1mwandb\u001b[0m: \tC: 1.642045716782945\n",
      "\u001b[34m\u001b[1mwandb\u001b[0m: \tclass_weight: balanced\n",
      "\u001b[34m\u001b[1mwandb\u001b[0m: \tmax_iter: 245\n",
      "\u001b[34m\u001b[1mwandb\u001b[0m: \tpenalty: l1\n",
      "\u001b[34m\u001b[1mwandb\u001b[0m: \tsolver: saga\n",
      "Failed to detect the name of this notebook, you can set it manually with the WANDB_NOTEBOOK_NAME environment variable to enable code saving.\n"
     ]
    },
    {
     "data": {
      "text/html": [
       "wandb version 0.16.1 is available!  To upgrade, please run:\n",
       " $ pip install wandb --upgrade"
      ],
      "text/plain": [
       "<IPython.core.display.HTML object>"
      ]
     },
     "metadata": {},
     "output_type": "display_data"
    },
    {
     "data": {
      "text/html": [
       "Tracking run with wandb version 0.16.0"
      ],
      "text/plain": [
       "<IPython.core.display.HTML object>"
      ]
     },
     "metadata": {},
     "output_type": "display_data"
    },
    {
     "data": {
      "text/html": [
       "Run data is saved locally in <code>c:\\Users\\MoZeA\\OneDrive\\Bureau\\Data Courses\\Elective\\Dev(ML)Ops Engineering\\DevOps_final_project\\notebooks\\wandb\\run-20231209_192224-cdj4w899</code>"
      ],
      "text/plain": [
       "<IPython.core.display.HTML object>"
      ]
     },
     "metadata": {},
     "output_type": "display_data"
    },
    {
     "data": {
      "text/html": [
       "Syncing run <strong><a href='https://wandb.ai/mozeart/bankloan_sweep/runs/cdj4w899' target=\"_blank\">ruby-sweep-2</a></strong> to <a href='https://wandb.ai/mozeart/bankloan_sweep' target=\"_blank\">Weights & Biases</a> (<a href='https://wandb.me/run' target=\"_blank\">docs</a>)<br/>Sweep page: <a href='https://wandb.ai/mozeart/bankloan_sweep/sweeps/mj1wox45' target=\"_blank\">https://wandb.ai/mozeart/bankloan_sweep/sweeps/mj1wox45</a>"
      ],
      "text/plain": [
       "<IPython.core.display.HTML object>"
      ]
     },
     "metadata": {},
     "output_type": "display_data"
    },
    {
     "data": {
      "text/html": [
       " View project at <a href='https://wandb.ai/mozeart/bankloan_sweep' target=\"_blank\">https://wandb.ai/mozeart/bankloan_sweep</a>"
      ],
      "text/plain": [
       "<IPython.core.display.HTML object>"
      ]
     },
     "metadata": {},
     "output_type": "display_data"
    },
    {
     "data": {
      "text/html": [
       " View sweep at <a href='https://wandb.ai/mozeart/bankloan_sweep/sweeps/mj1wox45' target=\"_blank\">https://wandb.ai/mozeart/bankloan_sweep/sweeps/mj1wox45</a>"
      ],
      "text/plain": [
       "<IPython.core.display.HTML object>"
      ]
     },
     "metadata": {},
     "output_type": "display_data"
    },
    {
     "data": {
      "text/html": [
       " View run at <a href='https://wandb.ai/mozeart/bankloan_sweep/runs/cdj4w899' target=\"_blank\">https://wandb.ai/mozeart/bankloan_sweep/runs/cdj4w899</a>"
      ],
      "text/plain": [
       "<IPython.core.display.HTML object>"
      ]
     },
     "metadata": {},
     "output_type": "display_data"
    },
    {
     "name": "stderr",
     "output_type": "stream",
     "text": [
      "\u001b[34m\u001b[1mwandb\u001b[0m: Adding directory to artifact (.\\data)... Done. 0.0s\n"
     ]
    },
    {
     "data": {
      "application/vnd.jupyter.widget-view+json": {
       "model_id": "123f51067bad4ffaa0fd8c8f2a4199dd",
       "version_major": 2,
       "version_minor": 0
      },
      "text/plain": [
       "VBox(children=(Label(value='0.037 MB of 0.037 MB uploaded\\r'), FloatProgress(value=1.0, max=1.0)))"
      ]
     },
     "metadata": {},
     "output_type": "display_data"
    },
    {
     "data": {
      "text/html": [
       "<style>\n",
       "    table.wandb td:nth-child(1) { padding: 0 10px; text-align: left ; width: auto;} td:nth-child(2) {text-align: left ; width: 100%}\n",
       "    .wandb-row { display: flex; flex-direction: row; flex-wrap: wrap; justify-content: flex-start; width: 100% }\n",
       "    .wandb-col { display: flex; flex-direction: column; flex-basis: 100%; flex: 1; padding: 10px; }\n",
       "    </style>\n",
       "<div class=\"wandb-row\"><div class=\"wandb-col\"><h3>Run history:</h3><br/><table class=\"wandb\"><tr><td>accuracy</td><td>▁</td></tr><tr><td>f1</td><td>▁</td></tr><tr><td>npv</td><td>▁</td></tr><tr><td>ppv</td><td>▁</td></tr><tr><td>precision</td><td>▁</td></tr><tr><td>recall</td><td>▁</td></tr><tr><td>roc_auc</td><td>▁</td></tr><tr><td>specificity</td><td>▁</td></tr></table><br/></div><div class=\"wandb-col\"><h3>Run summary:</h3><br/><table class=\"wandb\"><tr><td>accuracy</td><td>0.749</td></tr><tr><td>f1</td><td>0.60348</td></tr><tr><td>npv</td><td>0.91475</td></tr><tr><td>ppv</td><td>0.48974</td></tr><tr><td>precision</td><td>0.48974</td></tr><tr><td>recall</td><td>0.78601</td></tr><tr><td>roc_auc</td><td>0.84276</td></tr><tr><td>specificity</td><td>0.73712</td></tr></table><br/></div></div>"
      ],
      "text/plain": [
       "<IPython.core.display.HTML object>"
      ]
     },
     "metadata": {},
     "output_type": "display_data"
    },
    {
     "data": {
      "text/html": [
       " View run <strong style=\"color:#cdcd00\">ruby-sweep-2</strong> at: <a href='https://wandb.ai/mozeart/bankloan_sweep/runs/cdj4w899' target=\"_blank\">https://wandb.ai/mozeart/bankloan_sweep/runs/cdj4w899</a><br/>Synced 6 W&B file(s), 5 media file(s), 6 artifact file(s) and 0 other file(s)"
      ],
      "text/plain": [
       "<IPython.core.display.HTML object>"
      ]
     },
     "metadata": {},
     "output_type": "display_data"
    },
    {
     "data": {
      "text/html": [
       "Find logs at: <code>.\\wandb\\run-20231209_192224-cdj4w899\\logs</code>"
      ],
      "text/plain": [
       "<IPython.core.display.HTML object>"
      ]
     },
     "metadata": {},
     "output_type": "display_data"
    },
    {
     "name": "stderr",
     "output_type": "stream",
     "text": [
      "\u001b[34m\u001b[1mwandb\u001b[0m: Agent Starting Run: 504gosv0 with config:\n",
      "\u001b[34m\u001b[1mwandb\u001b[0m: \tC: 1.3053251892877589\n",
      "\u001b[34m\u001b[1mwandb\u001b[0m: \tclass_weight: None\n",
      "\u001b[34m\u001b[1mwandb\u001b[0m: \tmax_iter: 274\n",
      "\u001b[34m\u001b[1mwandb\u001b[0m: \tpenalty: l2\n",
      "\u001b[34m\u001b[1mwandb\u001b[0m: \tsolver: saga\n",
      "Failed to detect the name of this notebook, you can set it manually with the WANDB_NOTEBOOK_NAME environment variable to enable code saving.\n"
     ]
    },
    {
     "data": {
      "text/html": [
       "wandb version 0.16.1 is available!  To upgrade, please run:\n",
       " $ pip install wandb --upgrade"
      ],
      "text/plain": [
       "<IPython.core.display.HTML object>"
      ]
     },
     "metadata": {},
     "output_type": "display_data"
    },
    {
     "data": {
      "text/html": [
       "Tracking run with wandb version 0.16.0"
      ],
      "text/plain": [
       "<IPython.core.display.HTML object>"
      ]
     },
     "metadata": {},
     "output_type": "display_data"
    },
    {
     "data": {
      "text/html": [
       "Run data is saved locally in <code>c:\\Users\\MoZeA\\OneDrive\\Bureau\\Data Courses\\Elective\\Dev(ML)Ops Engineering\\DevOps_final_project\\notebooks\\wandb\\run-20231209_192349-504gosv0</code>"
      ],
      "text/plain": [
       "<IPython.core.display.HTML object>"
      ]
     },
     "metadata": {},
     "output_type": "display_data"
    },
    {
     "data": {
      "text/html": [
       "Syncing run <strong><a href='https://wandb.ai/mozeart/bankloan_sweep/runs/504gosv0' target=\"_blank\">volcanic-sweep-3</a></strong> to <a href='https://wandb.ai/mozeart/bankloan_sweep' target=\"_blank\">Weights & Biases</a> (<a href='https://wandb.me/run' target=\"_blank\">docs</a>)<br/>Sweep page: <a href='https://wandb.ai/mozeart/bankloan_sweep/sweeps/mj1wox45' target=\"_blank\">https://wandb.ai/mozeart/bankloan_sweep/sweeps/mj1wox45</a>"
      ],
      "text/plain": [
       "<IPython.core.display.HTML object>"
      ]
     },
     "metadata": {},
     "output_type": "display_data"
    },
    {
     "data": {
      "text/html": [
       " View project at <a href='https://wandb.ai/mozeart/bankloan_sweep' target=\"_blank\">https://wandb.ai/mozeart/bankloan_sweep</a>"
      ],
      "text/plain": [
       "<IPython.core.display.HTML object>"
      ]
     },
     "metadata": {},
     "output_type": "display_data"
    },
    {
     "data": {
      "text/html": [
       " View sweep at <a href='https://wandb.ai/mozeart/bankloan_sweep/sweeps/mj1wox45' target=\"_blank\">https://wandb.ai/mozeart/bankloan_sweep/sweeps/mj1wox45</a>"
      ],
      "text/plain": [
       "<IPython.core.display.HTML object>"
      ]
     },
     "metadata": {},
     "output_type": "display_data"
    },
    {
     "data": {
      "text/html": [
       " View run at <a href='https://wandb.ai/mozeart/bankloan_sweep/runs/504gosv0' target=\"_blank\">https://wandb.ai/mozeart/bankloan_sweep/runs/504gosv0</a>"
      ],
      "text/plain": [
       "<IPython.core.display.HTML object>"
      ]
     },
     "metadata": {},
     "output_type": "display_data"
    },
    {
     "name": "stderr",
     "output_type": "stream",
     "text": [
      "\u001b[34m\u001b[1mwandb\u001b[0m: Adding directory to artifact (.\\data)... Done. 0.0s\n"
     ]
    },
    {
     "data": {
      "application/vnd.jupyter.widget-view+json": {
       "model_id": "d4ca7573eb314104a3d97611e6619540",
       "version_major": 2,
       "version_minor": 0
      },
      "text/plain": [
       "VBox(children=(Label(value='0.039 MB of 0.039 MB uploaded\\r'), FloatProgress(value=1.0, max=1.0)))"
      ]
     },
     "metadata": {},
     "output_type": "display_data"
    },
    {
     "data": {
      "text/html": [
       "<style>\n",
       "    table.wandb td:nth-child(1) { padding: 0 10px; text-align: left ; width: auto;} td:nth-child(2) {text-align: left ; width: 100%}\n",
       "    .wandb-row { display: flex; flex-direction: row; flex-wrap: wrap; justify-content: flex-start; width: 100% }\n",
       "    .wandb-col { display: flex; flex-direction: column; flex-basis: 100%; flex: 1; padding: 10px; }\n",
       "    </style>\n",
       "<div class=\"wandb-row\"><div class=\"wandb-col\"><h3>Run history:</h3><br/><table class=\"wandb\"><tr><td>accuracy</td><td>▁</td></tr><tr><td>f1</td><td>▁</td></tr><tr><td>npv</td><td>▁</td></tr><tr><td>ppv</td><td>▁</td></tr><tr><td>precision</td><td>▁</td></tr><tr><td>recall</td><td>▁</td></tr><tr><td>roc_auc</td><td>▁</td></tr><tr><td>specificity</td><td>▁</td></tr></table><br/></div><div class=\"wandb-col\"><h3>Run summary:</h3><br/><table class=\"wandb\"><tr><td>accuracy</td><td>0.75</td></tr><tr><td>f1</td><td>0.60443</td></tr><tr><td>npv</td><td>0.91489</td></tr><tr><td>ppv</td><td>0.491</td></tr><tr><td>precision</td><td>0.491</td></tr><tr><td>recall</td><td>0.78601</td></tr><tr><td>roc_auc</td><td>0.84268</td></tr><tr><td>specificity</td><td>0.73844</td></tr></table><br/></div></div>"
      ],
      "text/plain": [
       "<IPython.core.display.HTML object>"
      ]
     },
     "metadata": {},
     "output_type": "display_data"
    },
    {
     "data": {
      "text/html": [
       " View run <strong style=\"color:#cdcd00\">volcanic-sweep-3</strong> at: <a href='https://wandb.ai/mozeart/bankloan_sweep/runs/504gosv0' target=\"_blank\">https://wandb.ai/mozeart/bankloan_sweep/runs/504gosv0</a><br/>Synced 6 W&B file(s), 5 media file(s), 6 artifact file(s) and 0 other file(s)"
      ],
      "text/plain": [
       "<IPython.core.display.HTML object>"
      ]
     },
     "metadata": {},
     "output_type": "display_data"
    },
    {
     "data": {
      "text/html": [
       "Find logs at: <code>.\\wandb\\run-20231209_192349-504gosv0\\logs</code>"
      ],
      "text/plain": [
       "<IPython.core.display.HTML object>"
      ]
     },
     "metadata": {},
     "output_type": "display_data"
    },
    {
     "name": "stderr",
     "output_type": "stream",
     "text": [
      "\u001b[34m\u001b[1mwandb\u001b[0m: Agent Starting Run: t57pmd1r with config:\n",
      "\u001b[34m\u001b[1mwandb\u001b[0m: \tC: 7.045512080592222\n",
      "\u001b[34m\u001b[1mwandb\u001b[0m: \tclass_weight: balanced\n",
      "\u001b[34m\u001b[1mwandb\u001b[0m: \tmax_iter: 133\n",
      "\u001b[34m\u001b[1mwandb\u001b[0m: \tpenalty: l1\n",
      "\u001b[34m\u001b[1mwandb\u001b[0m: \tsolver: saga\n",
      "Failed to detect the name of this notebook, you can set it manually with the WANDB_NOTEBOOK_NAME environment variable to enable code saving.\n"
     ]
    },
    {
     "data": {
      "text/html": [
       "wandb version 0.16.1 is available!  To upgrade, please run:\n",
       " $ pip install wandb --upgrade"
      ],
      "text/plain": [
       "<IPython.core.display.HTML object>"
      ]
     },
     "metadata": {},
     "output_type": "display_data"
    },
    {
     "data": {
      "text/html": [
       "Tracking run with wandb version 0.16.0"
      ],
      "text/plain": [
       "<IPython.core.display.HTML object>"
      ]
     },
     "metadata": {},
     "output_type": "display_data"
    },
    {
     "data": {
      "text/html": [
       "Run data is saved locally in <code>c:\\Users\\MoZeA\\OneDrive\\Bureau\\Data Courses\\Elective\\Dev(ML)Ops Engineering\\DevOps_final_project\\notebooks\\wandb\\run-20231209_192459-t57pmd1r</code>"
      ],
      "text/plain": [
       "<IPython.core.display.HTML object>"
      ]
     },
     "metadata": {},
     "output_type": "display_data"
    },
    {
     "data": {
      "text/html": [
       "Syncing run <strong><a href='https://wandb.ai/mozeart/bankloan_sweep/runs/t57pmd1r' target=\"_blank\">distinctive-sweep-4</a></strong> to <a href='https://wandb.ai/mozeart/bankloan_sweep' target=\"_blank\">Weights & Biases</a> (<a href='https://wandb.me/run' target=\"_blank\">docs</a>)<br/>Sweep page: <a href='https://wandb.ai/mozeart/bankloan_sweep/sweeps/mj1wox45' target=\"_blank\">https://wandb.ai/mozeart/bankloan_sweep/sweeps/mj1wox45</a>"
      ],
      "text/plain": [
       "<IPython.core.display.HTML object>"
      ]
     },
     "metadata": {},
     "output_type": "display_data"
    },
    {
     "data": {
      "text/html": [
       " View project at <a href='https://wandb.ai/mozeart/bankloan_sweep' target=\"_blank\">https://wandb.ai/mozeart/bankloan_sweep</a>"
      ],
      "text/plain": [
       "<IPython.core.display.HTML object>"
      ]
     },
     "metadata": {},
     "output_type": "display_data"
    },
    {
     "data": {
      "text/html": [
       " View sweep at <a href='https://wandb.ai/mozeart/bankloan_sweep/sweeps/mj1wox45' target=\"_blank\">https://wandb.ai/mozeart/bankloan_sweep/sweeps/mj1wox45</a>"
      ],
      "text/plain": [
       "<IPython.core.display.HTML object>"
      ]
     },
     "metadata": {},
     "output_type": "display_data"
    },
    {
     "data": {
      "text/html": [
       " View run at <a href='https://wandb.ai/mozeart/bankloan_sweep/runs/t57pmd1r' target=\"_blank\">https://wandb.ai/mozeart/bankloan_sweep/runs/t57pmd1r</a>"
      ],
      "text/plain": [
       "<IPython.core.display.HTML object>"
      ]
     },
     "metadata": {},
     "output_type": "display_data"
    },
    {
     "name": "stderr",
     "output_type": "stream",
     "text": [
      "\u001b[34m\u001b[1mwandb\u001b[0m: Adding directory to artifact (.\\data)... Done. 0.0s\n"
     ]
    },
    {
     "data": {
      "application/vnd.jupyter.widget-view+json": {
       "model_id": "1eb24abcf7ed4aa5a9d448f82ddc23bc",
       "version_major": 2,
       "version_minor": 0
      },
      "text/plain": [
       "VBox(children=(Label(value='0.037 MB of 0.037 MB uploaded\\r'), FloatProgress(value=0.9948400940022479, max=1.0…"
      ]
     },
     "metadata": {},
     "output_type": "display_data"
    },
    {
     "data": {
      "text/html": [
       "<style>\n",
       "    table.wandb td:nth-child(1) { padding: 0 10px; text-align: left ; width: auto;} td:nth-child(2) {text-align: left ; width: 100%}\n",
       "    .wandb-row { display: flex; flex-direction: row; flex-wrap: wrap; justify-content: flex-start; width: 100% }\n",
       "    .wandb-col { display: flex; flex-direction: column; flex-basis: 100%; flex: 1; padding: 10px; }\n",
       "    </style>\n",
       "<div class=\"wandb-row\"><div class=\"wandb-col\"><h3>Run history:</h3><br/><table class=\"wandb\"><tr><td>accuracy</td><td>▁</td></tr><tr><td>f1</td><td>▁</td></tr><tr><td>npv</td><td>▁</td></tr><tr><td>ppv</td><td>▁</td></tr><tr><td>precision</td><td>▁</td></tr><tr><td>recall</td><td>▁</td></tr><tr><td>roc_auc</td><td>▁</td></tr><tr><td>specificity</td><td>▁</td></tr></table><br/></div><div class=\"wandb-col\"><h3>Run summary:</h3><br/><table class=\"wandb\"><tr><td>accuracy</td><td>0.75</td></tr><tr><td>f1</td><td>0.60443</td></tr><tr><td>npv</td><td>0.91489</td></tr><tr><td>ppv</td><td>0.491</td></tr><tr><td>precision</td><td>0.491</td></tr><tr><td>recall</td><td>0.78601</td></tr><tr><td>roc_auc</td><td>0.84255</td></tr><tr><td>specificity</td><td>0.73844</td></tr></table><br/></div></div>"
      ],
      "text/plain": [
       "<IPython.core.display.HTML object>"
      ]
     },
     "metadata": {},
     "output_type": "display_data"
    },
    {
     "data": {
      "text/html": [
       " View run <strong style=\"color:#cdcd00\">distinctive-sweep-4</strong> at: <a href='https://wandb.ai/mozeart/bankloan_sweep/runs/t57pmd1r' target=\"_blank\">https://wandb.ai/mozeart/bankloan_sweep/runs/t57pmd1r</a><br/>Synced 6 W&B file(s), 5 media file(s), 6 artifact file(s) and 0 other file(s)"
      ],
      "text/plain": [
       "<IPython.core.display.HTML object>"
      ]
     },
     "metadata": {},
     "output_type": "display_data"
    },
    {
     "data": {
      "text/html": [
       "Find logs at: <code>.\\wandb\\run-20231209_192459-t57pmd1r\\logs</code>"
      ],
      "text/plain": [
       "<IPython.core.display.HTML object>"
      ]
     },
     "metadata": {},
     "output_type": "display_data"
    },
    {
     "name": "stderr",
     "output_type": "stream",
     "text": [
      "\u001b[34m\u001b[1mwandb\u001b[0m: Agent Starting Run: 48n7fxnc with config:\n",
      "\u001b[34m\u001b[1mwandb\u001b[0m: \tC: 9.52097881013477\n",
      "\u001b[34m\u001b[1mwandb\u001b[0m: \tclass_weight: None\n",
      "\u001b[34m\u001b[1mwandb\u001b[0m: \tmax_iter: 137\n",
      "\u001b[34m\u001b[1mwandb\u001b[0m: \tpenalty: l2\n",
      "\u001b[34m\u001b[1mwandb\u001b[0m: \tsolver: liblinear\n",
      "Failed to detect the name of this notebook, you can set it manually with the WANDB_NOTEBOOK_NAME environment variable to enable code saving.\n"
     ]
    },
    {
     "data": {
      "text/html": [
       "wandb version 0.16.1 is available!  To upgrade, please run:\n",
       " $ pip install wandb --upgrade"
      ],
      "text/plain": [
       "<IPython.core.display.HTML object>"
      ]
     },
     "metadata": {},
     "output_type": "display_data"
    },
    {
     "data": {
      "text/html": [
       "Tracking run with wandb version 0.16.0"
      ],
      "text/plain": [
       "<IPython.core.display.HTML object>"
      ]
     },
     "metadata": {},
     "output_type": "display_data"
    },
    {
     "data": {
      "text/html": [
       "Run data is saved locally in <code>c:\\Users\\MoZeA\\OneDrive\\Bureau\\Data Courses\\Elective\\Dev(ML)Ops Engineering\\DevOps_final_project\\notebooks\\wandb\\run-20231209_192613-48n7fxnc</code>"
      ],
      "text/plain": [
       "<IPython.core.display.HTML object>"
      ]
     },
     "metadata": {},
     "output_type": "display_data"
    },
    {
     "data": {
      "text/html": [
       "Syncing run <strong><a href='https://wandb.ai/mozeart/bankloan_sweep/runs/48n7fxnc' target=\"_blank\">feasible-sweep-5</a></strong> to <a href='https://wandb.ai/mozeart/bankloan_sweep' target=\"_blank\">Weights & Biases</a> (<a href='https://wandb.me/run' target=\"_blank\">docs</a>)<br/>Sweep page: <a href='https://wandb.ai/mozeart/bankloan_sweep/sweeps/mj1wox45' target=\"_blank\">https://wandb.ai/mozeart/bankloan_sweep/sweeps/mj1wox45</a>"
      ],
      "text/plain": [
       "<IPython.core.display.HTML object>"
      ]
     },
     "metadata": {},
     "output_type": "display_data"
    },
    {
     "data": {
      "text/html": [
       " View project at <a href='https://wandb.ai/mozeart/bankloan_sweep' target=\"_blank\">https://wandb.ai/mozeart/bankloan_sweep</a>"
      ],
      "text/plain": [
       "<IPython.core.display.HTML object>"
      ]
     },
     "metadata": {},
     "output_type": "display_data"
    },
    {
     "data": {
      "text/html": [
       " View sweep at <a href='https://wandb.ai/mozeart/bankloan_sweep/sweeps/mj1wox45' target=\"_blank\">https://wandb.ai/mozeart/bankloan_sweep/sweeps/mj1wox45</a>"
      ],
      "text/plain": [
       "<IPython.core.display.HTML object>"
      ]
     },
     "metadata": {},
     "output_type": "display_data"
    },
    {
     "data": {
      "text/html": [
       " View run at <a href='https://wandb.ai/mozeart/bankloan_sweep/runs/48n7fxnc' target=\"_blank\">https://wandb.ai/mozeart/bankloan_sweep/runs/48n7fxnc</a>"
      ],
      "text/plain": [
       "<IPython.core.display.HTML object>"
      ]
     },
     "metadata": {},
     "output_type": "display_data"
    },
    {
     "name": "stderr",
     "output_type": "stream",
     "text": [
      "\u001b[34m\u001b[1mwandb\u001b[0m: Adding directory to artifact (.\\data)... Done. 0.0s\n"
     ]
    },
    {
     "data": {
      "application/vnd.jupyter.widget-view+json": {
       "model_id": "99ff67a8ebde4b08a59956ab19bd214e",
       "version_major": 2,
       "version_minor": 0
      },
      "text/plain": [
       "VBox(children=(Label(value='0.038 MB of 0.038 MB uploaded\\r'), FloatProgress(value=0.99496798943776, max=1.0))…"
      ]
     },
     "metadata": {},
     "output_type": "display_data"
    },
    {
     "data": {
      "text/html": [
       "<style>\n",
       "    table.wandb td:nth-child(1) { padding: 0 10px; text-align: left ; width: auto;} td:nth-child(2) {text-align: left ; width: 100%}\n",
       "    .wandb-row { display: flex; flex-direction: row; flex-wrap: wrap; justify-content: flex-start; width: 100% }\n",
       "    .wandb-col { display: flex; flex-direction: column; flex-basis: 100%; flex: 1; padding: 10px; }\n",
       "    </style>\n",
       "<div class=\"wandb-row\"><div class=\"wandb-col\"><h3>Run history:</h3><br/><table class=\"wandb\"><tr><td>accuracy</td><td>▁</td></tr><tr><td>f1</td><td>▁</td></tr><tr><td>npv</td><td>▁</td></tr><tr><td>ppv</td><td>▁</td></tr><tr><td>precision</td><td>▁</td></tr><tr><td>recall</td><td>▁</td></tr><tr><td>roc_auc</td><td>▁</td></tr><tr><td>specificity</td><td>▁</td></tr></table><br/></div><div class=\"wandb-col\"><h3>Run summary:</h3><br/><table class=\"wandb\"><tr><td>accuracy</td><td>0.75</td></tr><tr><td>f1</td><td>0.60443</td></tr><tr><td>npv</td><td>0.91489</td></tr><tr><td>ppv</td><td>0.491</td></tr><tr><td>precision</td><td>0.491</td></tr><tr><td>recall</td><td>0.78601</td></tr><tr><td>roc_auc</td><td>0.84255</td></tr><tr><td>specificity</td><td>0.73844</td></tr></table><br/></div></div>"
      ],
      "text/plain": [
       "<IPython.core.display.HTML object>"
      ]
     },
     "metadata": {},
     "output_type": "display_data"
    },
    {
     "data": {
      "text/html": [
       " View run <strong style=\"color:#cdcd00\">feasible-sweep-5</strong> at: <a href='https://wandb.ai/mozeart/bankloan_sweep/runs/48n7fxnc' target=\"_blank\">https://wandb.ai/mozeart/bankloan_sweep/runs/48n7fxnc</a><br/>Synced 6 W&B file(s), 5 media file(s), 6 artifact file(s) and 0 other file(s)"
      ],
      "text/plain": [
       "<IPython.core.display.HTML object>"
      ]
     },
     "metadata": {},
     "output_type": "display_data"
    },
    {
     "data": {
      "text/html": [
       "Find logs at: <code>.\\wandb\\run-20231209_192613-48n7fxnc\\logs</code>"
      ],
      "text/plain": [
       "<IPython.core.display.HTML object>"
      ]
     },
     "metadata": {},
     "output_type": "display_data"
    },
    {
     "name": "stderr",
     "output_type": "stream",
     "text": [
      "\u001b[34m\u001b[1mwandb\u001b[0m: Agent Starting Run: ps6ofh9l with config:\n",
      "\u001b[34m\u001b[1mwandb\u001b[0m: \tC: 3.4944927014457847\n",
      "\u001b[34m\u001b[1mwandb\u001b[0m: \tclass_weight: None\n",
      "\u001b[34m\u001b[1mwandb\u001b[0m: \tmax_iter: 260\n",
      "\u001b[34m\u001b[1mwandb\u001b[0m: \tpenalty: l2\n",
      "\u001b[34m\u001b[1mwandb\u001b[0m: \tsolver: saga\n",
      "Failed to detect the name of this notebook, you can set it manually with the WANDB_NOTEBOOK_NAME environment variable to enable code saving.\n"
     ]
    },
    {
     "data": {
      "text/html": [
       "wandb version 0.16.1 is available!  To upgrade, please run:\n",
       " $ pip install wandb --upgrade"
      ],
      "text/plain": [
       "<IPython.core.display.HTML object>"
      ]
     },
     "metadata": {},
     "output_type": "display_data"
    },
    {
     "data": {
      "text/html": [
       "Tracking run with wandb version 0.16.0"
      ],
      "text/plain": [
       "<IPython.core.display.HTML object>"
      ]
     },
     "metadata": {},
     "output_type": "display_data"
    },
    {
     "data": {
      "text/html": [
       "Run data is saved locally in <code>c:\\Users\\MoZeA\\OneDrive\\Bureau\\Data Courses\\Elective\\Dev(ML)Ops Engineering\\DevOps_final_project\\notebooks\\wandb\\run-20231209_192731-ps6ofh9l</code>"
      ],
      "text/plain": [
       "<IPython.core.display.HTML object>"
      ]
     },
     "metadata": {},
     "output_type": "display_data"
    },
    {
     "data": {
      "text/html": [
       "Syncing run <strong><a href='https://wandb.ai/mozeart/bankloan_sweep/runs/ps6ofh9l' target=\"_blank\">rare-sweep-6</a></strong> to <a href='https://wandb.ai/mozeart/bankloan_sweep' target=\"_blank\">Weights & Biases</a> (<a href='https://wandb.me/run' target=\"_blank\">docs</a>)<br/>Sweep page: <a href='https://wandb.ai/mozeart/bankloan_sweep/sweeps/mj1wox45' target=\"_blank\">https://wandb.ai/mozeart/bankloan_sweep/sweeps/mj1wox45</a>"
      ],
      "text/plain": [
       "<IPython.core.display.HTML object>"
      ]
     },
     "metadata": {},
     "output_type": "display_data"
    },
    {
     "data": {
      "text/html": [
       " View project at <a href='https://wandb.ai/mozeart/bankloan_sweep' target=\"_blank\">https://wandb.ai/mozeart/bankloan_sweep</a>"
      ],
      "text/plain": [
       "<IPython.core.display.HTML object>"
      ]
     },
     "metadata": {},
     "output_type": "display_data"
    },
    {
     "data": {
      "text/html": [
       " View sweep at <a href='https://wandb.ai/mozeart/bankloan_sweep/sweeps/mj1wox45' target=\"_blank\">https://wandb.ai/mozeart/bankloan_sweep/sweeps/mj1wox45</a>"
      ],
      "text/plain": [
       "<IPython.core.display.HTML object>"
      ]
     },
     "metadata": {},
     "output_type": "display_data"
    },
    {
     "data": {
      "text/html": [
       " View run at <a href='https://wandb.ai/mozeart/bankloan_sweep/runs/ps6ofh9l' target=\"_blank\">https://wandb.ai/mozeart/bankloan_sweep/runs/ps6ofh9l</a>"
      ],
      "text/plain": [
       "<IPython.core.display.HTML object>"
      ]
     },
     "metadata": {},
     "output_type": "display_data"
    },
    {
     "name": "stderr",
     "output_type": "stream",
     "text": [
      "\u001b[34m\u001b[1mwandb\u001b[0m: Adding directory to artifact (.\\data)... Done. 0.0s\n"
     ]
    },
    {
     "data": {
      "application/vnd.jupyter.widget-view+json": {
       "model_id": "0a5d4bb5cd074f6d8cbb9983dfa0a06f",
       "version_major": 2,
       "version_minor": 0
      },
      "text/plain": [
       "VBox(children=(Label(value='0.040 MB of 0.040 MB uploaded\\r'), FloatProgress(value=0.9952049754314335, max=1.0…"
      ]
     },
     "metadata": {},
     "output_type": "display_data"
    },
    {
     "data": {
      "text/html": [
       "<style>\n",
       "    table.wandb td:nth-child(1) { padding: 0 10px; text-align: left ; width: auto;} td:nth-child(2) {text-align: left ; width: 100%}\n",
       "    .wandb-row { display: flex; flex-direction: row; flex-wrap: wrap; justify-content: flex-start; width: 100% }\n",
       "    .wandb-col { display: flex; flex-direction: column; flex-basis: 100%; flex: 1; padding: 10px; }\n",
       "    </style>\n",
       "<div class=\"wandb-row\"><div class=\"wandb-col\"><h3>Run history:</h3><br/><table class=\"wandb\"><tr><td>accuracy</td><td>▁</td></tr><tr><td>f1</td><td>▁</td></tr><tr><td>npv</td><td>▁</td></tr><tr><td>ppv</td><td>▁</td></tr><tr><td>precision</td><td>▁</td></tr><tr><td>recall</td><td>▁</td></tr><tr><td>roc_auc</td><td>▁</td></tr><tr><td>specificity</td><td>▁</td></tr></table><br/></div><div class=\"wandb-col\"><h3>Run summary:</h3><br/><table class=\"wandb\"><tr><td>accuracy</td><td>0.75</td></tr><tr><td>f1</td><td>0.60443</td></tr><tr><td>npv</td><td>0.91489</td></tr><tr><td>ppv</td><td>0.491</td></tr><tr><td>precision</td><td>0.491</td></tr><tr><td>recall</td><td>0.78601</td></tr><tr><td>roc_auc</td><td>0.8426</td></tr><tr><td>specificity</td><td>0.73844</td></tr></table><br/></div></div>"
      ],
      "text/plain": [
       "<IPython.core.display.HTML object>"
      ]
     },
     "metadata": {},
     "output_type": "display_data"
    },
    {
     "data": {
      "text/html": [
       " View run <strong style=\"color:#cdcd00\">rare-sweep-6</strong> at: <a href='https://wandb.ai/mozeart/bankloan_sweep/runs/ps6ofh9l' target=\"_blank\">https://wandb.ai/mozeart/bankloan_sweep/runs/ps6ofh9l</a><br/>Synced 6 W&B file(s), 5 media file(s), 6 artifact file(s) and 0 other file(s)"
      ],
      "text/plain": [
       "<IPython.core.display.HTML object>"
      ]
     },
     "metadata": {},
     "output_type": "display_data"
    },
    {
     "data": {
      "text/html": [
       "Find logs at: <code>.\\wandb\\run-20231209_192731-ps6ofh9l\\logs</code>"
      ],
      "text/plain": [
       "<IPython.core.display.HTML object>"
      ]
     },
     "metadata": {},
     "output_type": "display_data"
    },
    {
     "name": "stderr",
     "output_type": "stream",
     "text": [
      "\u001b[34m\u001b[1mwandb\u001b[0m: Agent Starting Run: mx4ot9pw with config:\n",
      "\u001b[34m\u001b[1mwandb\u001b[0m: \tC: 6.217686838342156\n",
      "\u001b[34m\u001b[1mwandb\u001b[0m: \tclass_weight: None\n",
      "\u001b[34m\u001b[1mwandb\u001b[0m: \tmax_iter: 165\n",
      "\u001b[34m\u001b[1mwandb\u001b[0m: \tpenalty: l2\n",
      "\u001b[34m\u001b[1mwandb\u001b[0m: \tsolver: liblinear\n",
      "Failed to detect the name of this notebook, you can set it manually with the WANDB_NOTEBOOK_NAME environment variable to enable code saving.\n"
     ]
    },
    {
     "data": {
      "text/html": [
       "wandb version 0.16.1 is available!  To upgrade, please run:\n",
       " $ pip install wandb --upgrade"
      ],
      "text/plain": [
       "<IPython.core.display.HTML object>"
      ]
     },
     "metadata": {},
     "output_type": "display_data"
    },
    {
     "data": {
      "text/html": [
       "Tracking run with wandb version 0.16.0"
      ],
      "text/plain": [
       "<IPython.core.display.HTML object>"
      ]
     },
     "metadata": {},
     "output_type": "display_data"
    },
    {
     "data": {
      "text/html": [
       "Run data is saved locally in <code>c:\\Users\\MoZeA\\OneDrive\\Bureau\\Data Courses\\Elective\\Dev(ML)Ops Engineering\\DevOps_final_project\\notebooks\\wandb\\run-20231209_192834-mx4ot9pw</code>"
      ],
      "text/plain": [
       "<IPython.core.display.HTML object>"
      ]
     },
     "metadata": {},
     "output_type": "display_data"
    },
    {
     "data": {
      "text/html": [
       "Syncing run <strong><a href='https://wandb.ai/mozeart/bankloan_sweep/runs/mx4ot9pw' target=\"_blank\">usual-sweep-7</a></strong> to <a href='https://wandb.ai/mozeart/bankloan_sweep' target=\"_blank\">Weights & Biases</a> (<a href='https://wandb.me/run' target=\"_blank\">docs</a>)<br/>Sweep page: <a href='https://wandb.ai/mozeart/bankloan_sweep/sweeps/mj1wox45' target=\"_blank\">https://wandb.ai/mozeart/bankloan_sweep/sweeps/mj1wox45</a>"
      ],
      "text/plain": [
       "<IPython.core.display.HTML object>"
      ]
     },
     "metadata": {},
     "output_type": "display_data"
    },
    {
     "data": {
      "text/html": [
       " View project at <a href='https://wandb.ai/mozeart/bankloan_sweep' target=\"_blank\">https://wandb.ai/mozeart/bankloan_sweep</a>"
      ],
      "text/plain": [
       "<IPython.core.display.HTML object>"
      ]
     },
     "metadata": {},
     "output_type": "display_data"
    },
    {
     "data": {
      "text/html": [
       " View sweep at <a href='https://wandb.ai/mozeart/bankloan_sweep/sweeps/mj1wox45' target=\"_blank\">https://wandb.ai/mozeart/bankloan_sweep/sweeps/mj1wox45</a>"
      ],
      "text/plain": [
       "<IPython.core.display.HTML object>"
      ]
     },
     "metadata": {},
     "output_type": "display_data"
    },
    {
     "data": {
      "text/html": [
       " View run at <a href='https://wandb.ai/mozeart/bankloan_sweep/runs/mx4ot9pw' target=\"_blank\">https://wandb.ai/mozeart/bankloan_sweep/runs/mx4ot9pw</a>"
      ],
      "text/plain": [
       "<IPython.core.display.HTML object>"
      ]
     },
     "metadata": {},
     "output_type": "display_data"
    },
    {
     "name": "stderr",
     "output_type": "stream",
     "text": [
      "\u001b[34m\u001b[1mwandb\u001b[0m: Adding directory to artifact (.\\data)... Done. 0.0s\n"
     ]
    },
    {
     "data": {
      "application/vnd.jupyter.widget-view+json": {
       "model_id": "883c8dbbc22240d0af316632af6303b3",
       "version_major": 2,
       "version_minor": 0
      },
      "text/plain": [
       "VBox(children=(Label(value='0.038 MB of 0.039 MB uploaded\\r'), FloatProgress(value=0.9949983905712234, max=1.0…"
      ]
     },
     "metadata": {},
     "output_type": "display_data"
    },
    {
     "data": {
      "text/html": [
       "<style>\n",
       "    table.wandb td:nth-child(1) { padding: 0 10px; text-align: left ; width: auto;} td:nth-child(2) {text-align: left ; width: 100%}\n",
       "    .wandb-row { display: flex; flex-direction: row; flex-wrap: wrap; justify-content: flex-start; width: 100% }\n",
       "    .wandb-col { display: flex; flex-direction: column; flex-basis: 100%; flex: 1; padding: 10px; }\n",
       "    </style>\n",
       "<div class=\"wandb-row\"><div class=\"wandb-col\"><h3>Run history:</h3><br/><table class=\"wandb\"><tr><td>accuracy</td><td>▁</td></tr><tr><td>f1</td><td>▁</td></tr><tr><td>npv</td><td>▁</td></tr><tr><td>ppv</td><td>▁</td></tr><tr><td>precision</td><td>▁</td></tr><tr><td>recall</td><td>▁</td></tr><tr><td>roc_auc</td><td>▁</td></tr><tr><td>specificity</td><td>▁</td></tr></table><br/></div><div class=\"wandb-col\"><h3>Run summary:</h3><br/><table class=\"wandb\"><tr><td>accuracy</td><td>0.75</td></tr><tr><td>f1</td><td>0.60443</td></tr><tr><td>npv</td><td>0.91489</td></tr><tr><td>ppv</td><td>0.491</td></tr><tr><td>precision</td><td>0.491</td></tr><tr><td>recall</td><td>0.78601</td></tr><tr><td>roc_auc</td><td>0.84256</td></tr><tr><td>specificity</td><td>0.73844</td></tr></table><br/></div></div>"
      ],
      "text/plain": [
       "<IPython.core.display.HTML object>"
      ]
     },
     "metadata": {},
     "output_type": "display_data"
    },
    {
     "data": {
      "text/html": [
       " View run <strong style=\"color:#cdcd00\">usual-sweep-7</strong> at: <a href='https://wandb.ai/mozeart/bankloan_sweep/runs/mx4ot9pw' target=\"_blank\">https://wandb.ai/mozeart/bankloan_sweep/runs/mx4ot9pw</a><br/>Synced 6 W&B file(s), 5 media file(s), 6 artifact file(s) and 0 other file(s)"
      ],
      "text/plain": [
       "<IPython.core.display.HTML object>"
      ]
     },
     "metadata": {},
     "output_type": "display_data"
    },
    {
     "data": {
      "text/html": [
       "Find logs at: <code>.\\wandb\\run-20231209_192834-mx4ot9pw\\logs</code>"
      ],
      "text/plain": [
       "<IPython.core.display.HTML object>"
      ]
     },
     "metadata": {},
     "output_type": "display_data"
    },
    {
     "name": "stderr",
     "output_type": "stream",
     "text": [
      "\u001b[34m\u001b[1mwandb\u001b[0m: Agent Starting Run: gubiscih with config:\n",
      "\u001b[34m\u001b[1mwandb\u001b[0m: \tC: 4.191529263758742\n",
      "\u001b[34m\u001b[1mwandb\u001b[0m: \tclass_weight: None\n",
      "\u001b[34m\u001b[1mwandb\u001b[0m: \tmax_iter: 202\n",
      "\u001b[34m\u001b[1mwandb\u001b[0m: \tpenalty: l2\n",
      "\u001b[34m\u001b[1mwandb\u001b[0m: \tsolver: saga\n",
      "Failed to detect the name of this notebook, you can set it manually with the WANDB_NOTEBOOK_NAME environment variable to enable code saving.\n"
     ]
    },
    {
     "data": {
      "text/html": [
       "wandb version 0.16.1 is available!  To upgrade, please run:\n",
       " $ pip install wandb --upgrade"
      ],
      "text/plain": [
       "<IPython.core.display.HTML object>"
      ]
     },
     "metadata": {},
     "output_type": "display_data"
    },
    {
     "data": {
      "text/html": [
       "Tracking run with wandb version 0.16.0"
      ],
      "text/plain": [
       "<IPython.core.display.HTML object>"
      ]
     },
     "metadata": {},
     "output_type": "display_data"
    },
    {
     "data": {
      "text/html": [
       "Run data is saved locally in <code>c:\\Users\\MoZeA\\OneDrive\\Bureau\\Data Courses\\Elective\\Dev(ML)Ops Engineering\\DevOps_final_project\\notebooks\\wandb\\run-20231209_192942-gubiscih</code>"
      ],
      "text/plain": [
       "<IPython.core.display.HTML object>"
      ]
     },
     "metadata": {},
     "output_type": "display_data"
    },
    {
     "data": {
      "text/html": [
       "Syncing run <strong><a href='https://wandb.ai/mozeart/bankloan_sweep/runs/gubiscih' target=\"_blank\">lunar-sweep-8</a></strong> to <a href='https://wandb.ai/mozeart/bankloan_sweep' target=\"_blank\">Weights & Biases</a> (<a href='https://wandb.me/run' target=\"_blank\">docs</a>)<br/>Sweep page: <a href='https://wandb.ai/mozeart/bankloan_sweep/sweeps/mj1wox45' target=\"_blank\">https://wandb.ai/mozeart/bankloan_sweep/sweeps/mj1wox45</a>"
      ],
      "text/plain": [
       "<IPython.core.display.HTML object>"
      ]
     },
     "metadata": {},
     "output_type": "display_data"
    },
    {
     "data": {
      "text/html": [
       " View project at <a href='https://wandb.ai/mozeart/bankloan_sweep' target=\"_blank\">https://wandb.ai/mozeart/bankloan_sweep</a>"
      ],
      "text/plain": [
       "<IPython.core.display.HTML object>"
      ]
     },
     "metadata": {},
     "output_type": "display_data"
    },
    {
     "data": {
      "text/html": [
       " View sweep at <a href='https://wandb.ai/mozeart/bankloan_sweep/sweeps/mj1wox45' target=\"_blank\">https://wandb.ai/mozeart/bankloan_sweep/sweeps/mj1wox45</a>"
      ],
      "text/plain": [
       "<IPython.core.display.HTML object>"
      ]
     },
     "metadata": {},
     "output_type": "display_data"
    },
    {
     "data": {
      "text/html": [
       " View run at <a href='https://wandb.ai/mozeart/bankloan_sweep/runs/gubiscih' target=\"_blank\">https://wandb.ai/mozeart/bankloan_sweep/runs/gubiscih</a>"
      ],
      "text/plain": [
       "<IPython.core.display.HTML object>"
      ]
     },
     "metadata": {},
     "output_type": "display_data"
    },
    {
     "name": "stderr",
     "output_type": "stream",
     "text": [
      "\u001b[34m\u001b[1mwandb\u001b[0m: Adding directory to artifact (.\\data)... Done. 0.0s\n"
     ]
    },
    {
     "data": {
      "application/vnd.jupyter.widget-view+json": {
       "model_id": "b29560d674024df4882e6ad12d7d39dc",
       "version_major": 2,
       "version_minor": 0
      },
      "text/plain": [
       "VBox(children=(Label(value='0.039 MB of 0.039 MB uploaded\\r'), FloatProgress(value=0.9950565317409819, max=1.0…"
      ]
     },
     "metadata": {},
     "output_type": "display_data"
    },
    {
     "data": {
      "text/html": [
       "<style>\n",
       "    table.wandb td:nth-child(1) { padding: 0 10px; text-align: left ; width: auto;} td:nth-child(2) {text-align: left ; width: 100%}\n",
       "    .wandb-row { display: flex; flex-direction: row; flex-wrap: wrap; justify-content: flex-start; width: 100% }\n",
       "    .wandb-col { display: flex; flex-direction: column; flex-basis: 100%; flex: 1; padding: 10px; }\n",
       "    </style>\n",
       "<div class=\"wandb-row\"><div class=\"wandb-col\"><h3>Run history:</h3><br/><table class=\"wandb\"><tr><td>accuracy</td><td>▁</td></tr><tr><td>f1</td><td>▁</td></tr><tr><td>npv</td><td>▁</td></tr><tr><td>ppv</td><td>▁</td></tr><tr><td>precision</td><td>▁</td></tr><tr><td>recall</td><td>▁</td></tr><tr><td>roc_auc</td><td>▁</td></tr><tr><td>specificity</td><td>▁</td></tr></table><br/></div><div class=\"wandb-col\"><h3>Run summary:</h3><br/><table class=\"wandb\"><tr><td>accuracy</td><td>0.75</td></tr><tr><td>f1</td><td>0.60443</td></tr><tr><td>npv</td><td>0.91489</td></tr><tr><td>ppv</td><td>0.491</td></tr><tr><td>precision</td><td>0.491</td></tr><tr><td>recall</td><td>0.78601</td></tr><tr><td>roc_auc</td><td>0.84259</td></tr><tr><td>specificity</td><td>0.73844</td></tr></table><br/></div></div>"
      ],
      "text/plain": [
       "<IPython.core.display.HTML object>"
      ]
     },
     "metadata": {},
     "output_type": "display_data"
    },
    {
     "data": {
      "text/html": [
       " View run <strong style=\"color:#cdcd00\">lunar-sweep-8</strong> at: <a href='https://wandb.ai/mozeart/bankloan_sweep/runs/gubiscih' target=\"_blank\">https://wandb.ai/mozeart/bankloan_sweep/runs/gubiscih</a><br/>Synced 6 W&B file(s), 5 media file(s), 6 artifact file(s) and 0 other file(s)"
      ],
      "text/plain": [
       "<IPython.core.display.HTML object>"
      ]
     },
     "metadata": {},
     "output_type": "display_data"
    },
    {
     "data": {
      "text/html": [
       "Find logs at: <code>.\\wandb\\run-20231209_192942-gubiscih\\logs</code>"
      ],
      "text/plain": [
       "<IPython.core.display.HTML object>"
      ]
     },
     "metadata": {},
     "output_type": "display_data"
    },
    {
     "name": "stderr",
     "output_type": "stream",
     "text": [
      "\u001b[34m\u001b[1mwandb\u001b[0m: Agent Starting Run: vyv932a2 with config:\n",
      "\u001b[34m\u001b[1mwandb\u001b[0m: \tC: 8.665506610674932\n",
      "\u001b[34m\u001b[1mwandb\u001b[0m: \tclass_weight: None\n",
      "\u001b[34m\u001b[1mwandb\u001b[0m: \tmax_iter: 104\n",
      "\u001b[34m\u001b[1mwandb\u001b[0m: \tpenalty: l1\n",
      "\u001b[34m\u001b[1mwandb\u001b[0m: \tsolver: saga\n",
      "Failed to detect the name of this notebook, you can set it manually with the WANDB_NOTEBOOK_NAME environment variable to enable code saving.\n"
     ]
    },
    {
     "data": {
      "text/html": [
       "wandb version 0.16.1 is available!  To upgrade, please run:\n",
       " $ pip install wandb --upgrade"
      ],
      "text/plain": [
       "<IPython.core.display.HTML object>"
      ]
     },
     "metadata": {},
     "output_type": "display_data"
    },
    {
     "data": {
      "text/html": [
       "Tracking run with wandb version 0.16.0"
      ],
      "text/plain": [
       "<IPython.core.display.HTML object>"
      ]
     },
     "metadata": {},
     "output_type": "display_data"
    },
    {
     "data": {
      "text/html": [
       "Run data is saved locally in <code>c:\\Users\\MoZeA\\OneDrive\\Bureau\\Data Courses\\Elective\\Dev(ML)Ops Engineering\\DevOps_final_project\\notebooks\\wandb\\run-20231209_193045-vyv932a2</code>"
      ],
      "text/plain": [
       "<IPython.core.display.HTML object>"
      ]
     },
     "metadata": {},
     "output_type": "display_data"
    },
    {
     "data": {
      "text/html": [
       "Syncing run <strong><a href='https://wandb.ai/mozeart/bankloan_sweep/runs/vyv932a2' target=\"_blank\">vague-sweep-9</a></strong> to <a href='https://wandb.ai/mozeart/bankloan_sweep' target=\"_blank\">Weights & Biases</a> (<a href='https://wandb.me/run' target=\"_blank\">docs</a>)<br/>Sweep page: <a href='https://wandb.ai/mozeart/bankloan_sweep/sweeps/mj1wox45' target=\"_blank\">https://wandb.ai/mozeart/bankloan_sweep/sweeps/mj1wox45</a>"
      ],
      "text/plain": [
       "<IPython.core.display.HTML object>"
      ]
     },
     "metadata": {},
     "output_type": "display_data"
    },
    {
     "data": {
      "text/html": [
       " View project at <a href='https://wandb.ai/mozeart/bankloan_sweep' target=\"_blank\">https://wandb.ai/mozeart/bankloan_sweep</a>"
      ],
      "text/plain": [
       "<IPython.core.display.HTML object>"
      ]
     },
     "metadata": {},
     "output_type": "display_data"
    },
    {
     "data": {
      "text/html": [
       " View sweep at <a href='https://wandb.ai/mozeart/bankloan_sweep/sweeps/mj1wox45' target=\"_blank\">https://wandb.ai/mozeart/bankloan_sweep/sweeps/mj1wox45</a>"
      ],
      "text/plain": [
       "<IPython.core.display.HTML object>"
      ]
     },
     "metadata": {},
     "output_type": "display_data"
    },
    {
     "data": {
      "text/html": [
       " View run at <a href='https://wandb.ai/mozeart/bankloan_sweep/runs/vyv932a2' target=\"_blank\">https://wandb.ai/mozeart/bankloan_sweep/runs/vyv932a2</a>"
      ],
      "text/plain": [
       "<IPython.core.display.HTML object>"
      ]
     },
     "metadata": {},
     "output_type": "display_data"
    },
    {
     "name": "stderr",
     "output_type": "stream",
     "text": [
      "\u001b[34m\u001b[1mwandb\u001b[0m: Adding directory to artifact (.\\data)... Done. 0.0s\n"
     ]
    },
    {
     "data": {
      "application/vnd.jupyter.widget-view+json": {
       "model_id": "aee2e9bf9ece43a9ab7582093d5d0292",
       "version_major": 2,
       "version_minor": 0
      },
      "text/plain": [
       "VBox(children=(Label(value='0.038 MB of 0.038 MB uploaded\\r'), FloatProgress(value=1.0, max=1.0)))"
      ]
     },
     "metadata": {},
     "output_type": "display_data"
    },
    {
     "data": {
      "text/html": [
       "<style>\n",
       "    table.wandb td:nth-child(1) { padding: 0 10px; text-align: left ; width: auto;} td:nth-child(2) {text-align: left ; width: 100%}\n",
       "    .wandb-row { display: flex; flex-direction: row; flex-wrap: wrap; justify-content: flex-start; width: 100% }\n",
       "    .wandb-col { display: flex; flex-direction: column; flex-basis: 100%; flex: 1; padding: 10px; }\n",
       "    </style>\n",
       "<div class=\"wandb-row\"><div class=\"wandb-col\"><h3>Run history:</h3><br/><table class=\"wandb\"><tr><td>accuracy</td><td>▁</td></tr><tr><td>f1</td><td>▁</td></tr><tr><td>npv</td><td>▁</td></tr><tr><td>ppv</td><td>▁</td></tr><tr><td>precision</td><td>▁</td></tr><tr><td>recall</td><td>▁</td></tr><tr><td>roc_auc</td><td>▁</td></tr><tr><td>specificity</td><td>▁</td></tr></table><br/></div><div class=\"wandb-col\"><h3>Run summary:</h3><br/><table class=\"wandb\"><tr><td>accuracy</td><td>0.75</td></tr><tr><td>f1</td><td>0.60443</td></tr><tr><td>npv</td><td>0.91489</td></tr><tr><td>ppv</td><td>0.491</td></tr><tr><td>precision</td><td>0.491</td></tr><tr><td>recall</td><td>0.78601</td></tr><tr><td>roc_auc</td><td>0.84254</td></tr><tr><td>specificity</td><td>0.73844</td></tr></table><br/></div></div>"
      ],
      "text/plain": [
       "<IPython.core.display.HTML object>"
      ]
     },
     "metadata": {},
     "output_type": "display_data"
    },
    {
     "data": {
      "text/html": [
       " View run <strong style=\"color:#cdcd00\">vague-sweep-9</strong> at: <a href='https://wandb.ai/mozeart/bankloan_sweep/runs/vyv932a2' target=\"_blank\">https://wandb.ai/mozeart/bankloan_sweep/runs/vyv932a2</a><br/>Synced 6 W&B file(s), 5 media file(s), 6 artifact file(s) and 0 other file(s)"
      ],
      "text/plain": [
       "<IPython.core.display.HTML object>"
      ]
     },
     "metadata": {},
     "output_type": "display_data"
    },
    {
     "data": {
      "text/html": [
       "Find logs at: <code>.\\wandb\\run-20231209_193045-vyv932a2\\logs</code>"
      ],
      "text/plain": [
       "<IPython.core.display.HTML object>"
      ]
     },
     "metadata": {},
     "output_type": "display_data"
    },
    {
     "name": "stderr",
     "output_type": "stream",
     "text": [
      "\u001b[34m\u001b[1mwandb\u001b[0m: Agent Starting Run: np5ukbaw with config:\n",
      "\u001b[34m\u001b[1mwandb\u001b[0m: \tC: 5.530831603685222\n",
      "\u001b[34m\u001b[1mwandb\u001b[0m: \tclass_weight: balanced\n",
      "\u001b[34m\u001b[1mwandb\u001b[0m: \tmax_iter: 123\n",
      "\u001b[34m\u001b[1mwandb\u001b[0m: \tpenalty: l2\n",
      "\u001b[34m\u001b[1mwandb\u001b[0m: \tsolver: liblinear\n",
      "Failed to detect the name of this notebook, you can set it manually with the WANDB_NOTEBOOK_NAME environment variable to enable code saving.\n"
     ]
    },
    {
     "data": {
      "text/html": [
       "wandb version 0.16.1 is available!  To upgrade, please run:\n",
       " $ pip install wandb --upgrade"
      ],
      "text/plain": [
       "<IPython.core.display.HTML object>"
      ]
     },
     "metadata": {},
     "output_type": "display_data"
    },
    {
     "data": {
      "text/html": [
       "Tracking run with wandb version 0.16.0"
      ],
      "text/plain": [
       "<IPython.core.display.HTML object>"
      ]
     },
     "metadata": {},
     "output_type": "display_data"
    },
    {
     "data": {
      "text/html": [
       "Run data is saved locally in <code>c:\\Users\\MoZeA\\OneDrive\\Bureau\\Data Courses\\Elective\\Dev(ML)Ops Engineering\\DevOps_final_project\\notebooks\\wandb\\run-20231209_193152-np5ukbaw</code>"
      ],
      "text/plain": [
       "<IPython.core.display.HTML object>"
      ]
     },
     "metadata": {},
     "output_type": "display_data"
    },
    {
     "data": {
      "text/html": [
       "Syncing run <strong><a href='https://wandb.ai/mozeart/bankloan_sweep/runs/np5ukbaw' target=\"_blank\">fast-sweep-10</a></strong> to <a href='https://wandb.ai/mozeart/bankloan_sweep' target=\"_blank\">Weights & Biases</a> (<a href='https://wandb.me/run' target=\"_blank\">docs</a>)<br/>Sweep page: <a href='https://wandb.ai/mozeart/bankloan_sweep/sweeps/mj1wox45' target=\"_blank\">https://wandb.ai/mozeart/bankloan_sweep/sweeps/mj1wox45</a>"
      ],
      "text/plain": [
       "<IPython.core.display.HTML object>"
      ]
     },
     "metadata": {},
     "output_type": "display_data"
    },
    {
     "data": {
      "text/html": [
       " View project at <a href='https://wandb.ai/mozeart/bankloan_sweep' target=\"_blank\">https://wandb.ai/mozeart/bankloan_sweep</a>"
      ],
      "text/plain": [
       "<IPython.core.display.HTML object>"
      ]
     },
     "metadata": {},
     "output_type": "display_data"
    },
    {
     "data": {
      "text/html": [
       " View sweep at <a href='https://wandb.ai/mozeart/bankloan_sweep/sweeps/mj1wox45' target=\"_blank\">https://wandb.ai/mozeart/bankloan_sweep/sweeps/mj1wox45</a>"
      ],
      "text/plain": [
       "<IPython.core.display.HTML object>"
      ]
     },
     "metadata": {},
     "output_type": "display_data"
    },
    {
     "data": {
      "text/html": [
       " View run at <a href='https://wandb.ai/mozeart/bankloan_sweep/runs/np5ukbaw' target=\"_blank\">https://wandb.ai/mozeart/bankloan_sweep/runs/np5ukbaw</a>"
      ],
      "text/plain": [
       "<IPython.core.display.HTML object>"
      ]
     },
     "metadata": {},
     "output_type": "display_data"
    },
    {
     "name": "stderr",
     "output_type": "stream",
     "text": [
      "\u001b[34m\u001b[1mwandb\u001b[0m: Adding directory to artifact (.\\data)... Done. 0.0s\n"
     ]
    },
    {
     "data": {
      "application/vnd.jupyter.widget-view+json": {
       "model_id": "91889f5f34c7407986826cd40574ab60",
       "version_major": 2,
       "version_minor": 0
      },
      "text/plain": [
       "VBox(children=(Label(value='0.038 MB of 0.038 MB uploaded\\r'), FloatProgress(value=0.9949677387210084, max=1.0…"
      ]
     },
     "metadata": {},
     "output_type": "display_data"
    },
    {
     "data": {
      "text/html": [
       "<style>\n",
       "    table.wandb td:nth-child(1) { padding: 0 10px; text-align: left ; width: auto;} td:nth-child(2) {text-align: left ; width: 100%}\n",
       "    .wandb-row { display: flex; flex-direction: row; flex-wrap: wrap; justify-content: flex-start; width: 100% }\n",
       "    .wandb-col { display: flex; flex-direction: column; flex-basis: 100%; flex: 1; padding: 10px; }\n",
       "    </style>\n",
       "<div class=\"wandb-row\"><div class=\"wandb-col\"><h3>Run history:</h3><br/><table class=\"wandb\"><tr><td>accuracy</td><td>▁</td></tr><tr><td>f1</td><td>▁</td></tr><tr><td>npv</td><td>▁</td></tr><tr><td>ppv</td><td>▁</td></tr><tr><td>precision</td><td>▁</td></tr><tr><td>recall</td><td>▁</td></tr><tr><td>roc_auc</td><td>▁</td></tr><tr><td>specificity</td><td>▁</td></tr></table><br/></div><div class=\"wandb-col\"><h3>Run summary:</h3><br/><table class=\"wandb\"><tr><td>accuracy</td><td>0.75</td></tr><tr><td>f1</td><td>0.60443</td></tr><tr><td>npv</td><td>0.91489</td></tr><tr><td>ppv</td><td>0.491</td></tr><tr><td>precision</td><td>0.491</td></tr><tr><td>recall</td><td>0.78601</td></tr><tr><td>roc_auc</td><td>0.84256</td></tr><tr><td>specificity</td><td>0.73844</td></tr></table><br/></div></div>"
      ],
      "text/plain": [
       "<IPython.core.display.HTML object>"
      ]
     },
     "metadata": {},
     "output_type": "display_data"
    },
    {
     "data": {
      "text/html": [
       " View run <strong style=\"color:#cdcd00\">fast-sweep-10</strong> at: <a href='https://wandb.ai/mozeart/bankloan_sweep/runs/np5ukbaw' target=\"_blank\">https://wandb.ai/mozeart/bankloan_sweep/runs/np5ukbaw</a><br/>Synced 6 W&B file(s), 5 media file(s), 6 artifact file(s) and 0 other file(s)"
      ],
      "text/plain": [
       "<IPython.core.display.HTML object>"
      ]
     },
     "metadata": {},
     "output_type": "display_data"
    },
    {
     "data": {
      "text/html": [
       "Find logs at: <code>.\\wandb\\run-20231209_193152-np5ukbaw\\logs</code>"
      ],
      "text/plain": [
       "<IPython.core.display.HTML object>"
      ]
     },
     "metadata": {},
     "output_type": "display_data"
    },
    {
     "name": "stderr",
     "output_type": "stream",
     "text": [
      "\u001b[34m\u001b[1mwandb\u001b[0m: Agent Starting Run: zxw2pmas with config:\n",
      "\u001b[34m\u001b[1mwandb\u001b[0m: \tC: 0.5988500458241841\n",
      "\u001b[34m\u001b[1mwandb\u001b[0m: \tclass_weight: balanced\n",
      "\u001b[34m\u001b[1mwandb\u001b[0m: \tmax_iter: 171\n",
      "\u001b[34m\u001b[1mwandb\u001b[0m: \tpenalty: l1\n",
      "\u001b[34m\u001b[1mwandb\u001b[0m: \tsolver: liblinear\n",
      "Failed to detect the name of this notebook, you can set it manually with the WANDB_NOTEBOOK_NAME environment variable to enable code saving.\n"
     ]
    },
    {
     "data": {
      "text/html": [
       "wandb version 0.16.1 is available!  To upgrade, please run:\n",
       " $ pip install wandb --upgrade"
      ],
      "text/plain": [
       "<IPython.core.display.HTML object>"
      ]
     },
     "metadata": {},
     "output_type": "display_data"
    },
    {
     "data": {
      "text/html": [
       "Tracking run with wandb version 0.16.0"
      ],
      "text/plain": [
       "<IPython.core.display.HTML object>"
      ]
     },
     "metadata": {},
     "output_type": "display_data"
    },
    {
     "data": {
      "text/html": [
       "Run data is saved locally in <code>c:\\Users\\MoZeA\\OneDrive\\Bureau\\Data Courses\\Elective\\Dev(ML)Ops Engineering\\DevOps_final_project\\notebooks\\wandb\\run-20231209_193301-zxw2pmas</code>"
      ],
      "text/plain": [
       "<IPython.core.display.HTML object>"
      ]
     },
     "metadata": {},
     "output_type": "display_data"
    },
    {
     "data": {
      "text/html": [
       "Syncing run <strong><a href='https://wandb.ai/mozeart/bankloan_sweep/runs/zxw2pmas' target=\"_blank\">colorful-sweep-11</a></strong> to <a href='https://wandb.ai/mozeart/bankloan_sweep' target=\"_blank\">Weights & Biases</a> (<a href='https://wandb.me/run' target=\"_blank\">docs</a>)<br/>Sweep page: <a href='https://wandb.ai/mozeart/bankloan_sweep/sweeps/mj1wox45' target=\"_blank\">https://wandb.ai/mozeart/bankloan_sweep/sweeps/mj1wox45</a>"
      ],
      "text/plain": [
       "<IPython.core.display.HTML object>"
      ]
     },
     "metadata": {},
     "output_type": "display_data"
    },
    {
     "data": {
      "text/html": [
       " View project at <a href='https://wandb.ai/mozeart/bankloan_sweep' target=\"_blank\">https://wandb.ai/mozeart/bankloan_sweep</a>"
      ],
      "text/plain": [
       "<IPython.core.display.HTML object>"
      ]
     },
     "metadata": {},
     "output_type": "display_data"
    },
    {
     "data": {
      "text/html": [
       " View sweep at <a href='https://wandb.ai/mozeart/bankloan_sweep/sweeps/mj1wox45' target=\"_blank\">https://wandb.ai/mozeart/bankloan_sweep/sweeps/mj1wox45</a>"
      ],
      "text/plain": [
       "<IPython.core.display.HTML object>"
      ]
     },
     "metadata": {},
     "output_type": "display_data"
    },
    {
     "data": {
      "text/html": [
       " View run at <a href='https://wandb.ai/mozeart/bankloan_sweep/runs/zxw2pmas' target=\"_blank\">https://wandb.ai/mozeart/bankloan_sweep/runs/zxw2pmas</a>"
      ],
      "text/plain": [
       "<IPython.core.display.HTML object>"
      ]
     },
     "metadata": {},
     "output_type": "display_data"
    },
    {
     "name": "stderr",
     "output_type": "stream",
     "text": [
      "\u001b[34m\u001b[1mwandb\u001b[0m: Adding directory to artifact (.\\data)... Done. 0.0s\n"
     ]
    },
    {
     "data": {
      "application/vnd.jupyter.widget-view+json": {
       "model_id": "0d6c32af45fc4a2799b14bc0c7a46b56",
       "version_major": 2,
       "version_minor": 0
      },
      "text/plain": [
       "VBox(children=(Label(value='0.037 MB of 0.037 MB uploaded\\r'), FloatProgress(value=0.9948142633430032, max=1.0…"
      ]
     },
     "metadata": {},
     "output_type": "display_data"
    },
    {
     "data": {
      "text/html": [
       "<style>\n",
       "    table.wandb td:nth-child(1) { padding: 0 10px; text-align: left ; width: auto;} td:nth-child(2) {text-align: left ; width: 100%}\n",
       "    .wandb-row { display: flex; flex-direction: row; flex-wrap: wrap; justify-content: flex-start; width: 100% }\n",
       "    .wandb-col { display: flex; flex-direction: column; flex-basis: 100%; flex: 1; padding: 10px; }\n",
       "    </style>\n",
       "<div class=\"wandb-row\"><div class=\"wandb-col\"><h3>Run history:</h3><br/><table class=\"wandb\"><tr><td>accuracy</td><td>▁</td></tr><tr><td>f1</td><td>▁</td></tr><tr><td>npv</td><td>▁</td></tr><tr><td>ppv</td><td>▁</td></tr><tr><td>precision</td><td>▁</td></tr><tr><td>recall</td><td>▁</td></tr><tr><td>roc_auc</td><td>▁</td></tr><tr><td>specificity</td><td>▁</td></tr></table><br/></div><div class=\"wandb-col\"><h3>Run summary:</h3><br/><table class=\"wandb\"><tr><td>accuracy</td><td>0.749</td></tr><tr><td>f1</td><td>0.60472</td></tr><tr><td>npv</td><td>0.91612</td></tr><tr><td>ppv</td><td>0.4898</td></tr><tr><td>precision</td><td>0.4898</td></tr><tr><td>recall</td><td>0.79012</td></tr><tr><td>roc_auc</td><td>0.84268</td></tr><tr><td>specificity</td><td>0.7358</td></tr></table><br/></div></div>"
      ],
      "text/plain": [
       "<IPython.core.display.HTML object>"
      ]
     },
     "metadata": {},
     "output_type": "display_data"
    },
    {
     "data": {
      "text/html": [
       " View run <strong style=\"color:#cdcd00\">colorful-sweep-11</strong> at: <a href='https://wandb.ai/mozeart/bankloan_sweep/runs/zxw2pmas' target=\"_blank\">https://wandb.ai/mozeart/bankloan_sweep/runs/zxw2pmas</a><br/>Synced 6 W&B file(s), 5 media file(s), 6 artifact file(s) and 0 other file(s)"
      ],
      "text/plain": [
       "<IPython.core.display.HTML object>"
      ]
     },
     "metadata": {},
     "output_type": "display_data"
    },
    {
     "data": {
      "text/html": [
       "Find logs at: <code>.\\wandb\\run-20231209_193301-zxw2pmas\\logs</code>"
      ],
      "text/plain": [
       "<IPython.core.display.HTML object>"
      ]
     },
     "metadata": {},
     "output_type": "display_data"
    },
    {
     "name": "stderr",
     "output_type": "stream",
     "text": [
      "\u001b[34m\u001b[1mwandb\u001b[0m: Sweep Agent: Waiting for job.\n",
      "\u001b[34m\u001b[1mwandb\u001b[0m: Job received.\n",
      "\u001b[34m\u001b[1mwandb\u001b[0m: Agent Starting Run: ds5c28jl with config:\n",
      "\u001b[34m\u001b[1mwandb\u001b[0m: \tC: 0.33119651343335854\n",
      "\u001b[34m\u001b[1mwandb\u001b[0m: \tclass_weight: balanced\n",
      "\u001b[34m\u001b[1mwandb\u001b[0m: \tmax_iter: 175\n",
      "\u001b[34m\u001b[1mwandb\u001b[0m: \tpenalty: l2\n",
      "\u001b[34m\u001b[1mwandb\u001b[0m: \tsolver: liblinear\n",
      "Failed to detect the name of this notebook, you can set it manually with the WANDB_NOTEBOOK_NAME environment variable to enable code saving.\n"
     ]
    },
    {
     "data": {
      "text/html": [
       "wandb version 0.16.1 is available!  To upgrade, please run:\n",
       " $ pip install wandb --upgrade"
      ],
      "text/plain": [
       "<IPython.core.display.HTML object>"
      ]
     },
     "metadata": {},
     "output_type": "display_data"
    },
    {
     "data": {
      "text/html": [
       "Tracking run with wandb version 0.16.0"
      ],
      "text/plain": [
       "<IPython.core.display.HTML object>"
      ]
     },
     "metadata": {},
     "output_type": "display_data"
    },
    {
     "data": {
      "text/html": [
       "Run data is saved locally in <code>c:\\Users\\MoZeA\\OneDrive\\Bureau\\Data Courses\\Elective\\Dev(ML)Ops Engineering\\DevOps_final_project\\notebooks\\wandb\\run-20231209_193414-ds5c28jl</code>"
      ],
      "text/plain": [
       "<IPython.core.display.HTML object>"
      ]
     },
     "metadata": {},
     "output_type": "display_data"
    },
    {
     "data": {
      "text/html": [
       "Syncing run <strong><a href='https://wandb.ai/mozeart/bankloan_sweep/runs/ds5c28jl' target=\"_blank\">major-sweep-12</a></strong> to <a href='https://wandb.ai/mozeart/bankloan_sweep' target=\"_blank\">Weights & Biases</a> (<a href='https://wandb.me/run' target=\"_blank\">docs</a>)<br/>Sweep page: <a href='https://wandb.ai/mozeart/bankloan_sweep/sweeps/mj1wox45' target=\"_blank\">https://wandb.ai/mozeart/bankloan_sweep/sweeps/mj1wox45</a>"
      ],
      "text/plain": [
       "<IPython.core.display.HTML object>"
      ]
     },
     "metadata": {},
     "output_type": "display_data"
    },
    {
     "data": {
      "text/html": [
       " View project at <a href='https://wandb.ai/mozeart/bankloan_sweep' target=\"_blank\">https://wandb.ai/mozeart/bankloan_sweep</a>"
      ],
      "text/plain": [
       "<IPython.core.display.HTML object>"
      ]
     },
     "metadata": {},
     "output_type": "display_data"
    },
    {
     "data": {
      "text/html": [
       " View sweep at <a href='https://wandb.ai/mozeart/bankloan_sweep/sweeps/mj1wox45' target=\"_blank\">https://wandb.ai/mozeart/bankloan_sweep/sweeps/mj1wox45</a>"
      ],
      "text/plain": [
       "<IPython.core.display.HTML object>"
      ]
     },
     "metadata": {},
     "output_type": "display_data"
    },
    {
     "data": {
      "text/html": [
       " View run at <a href='https://wandb.ai/mozeart/bankloan_sweep/runs/ds5c28jl' target=\"_blank\">https://wandb.ai/mozeart/bankloan_sweep/runs/ds5c28jl</a>"
      ],
      "text/plain": [
       "<IPython.core.display.HTML object>"
      ]
     },
     "metadata": {},
     "output_type": "display_data"
    },
    {
     "name": "stderr",
     "output_type": "stream",
     "text": [
      "\u001b[34m\u001b[1mwandb\u001b[0m: Adding directory to artifact (.\\data)... Done. 0.0s\n"
     ]
    },
    {
     "data": {
      "application/vnd.jupyter.widget-view+json": {
       "model_id": "db97b0ca72e44faebbf854031b735d78",
       "version_major": 2,
       "version_minor": 0
      },
      "text/plain": [
       "VBox(children=(Label(value='0.036 MB of 0.036 MB uploaded\\r'), FloatProgress(value=1.0, max=1.0)))"
      ]
     },
     "metadata": {},
     "output_type": "display_data"
    },
    {
     "data": {
      "text/html": [
       "<style>\n",
       "    table.wandb td:nth-child(1) { padding: 0 10px; text-align: left ; width: auto;} td:nth-child(2) {text-align: left ; width: 100%}\n",
       "    .wandb-row { display: flex; flex-direction: row; flex-wrap: wrap; justify-content: flex-start; width: 100% }\n",
       "    .wandb-col { display: flex; flex-direction: column; flex-basis: 100%; flex: 1; padding: 10px; }\n",
       "    </style>\n",
       "<div class=\"wandb-row\"><div class=\"wandb-col\"><h3>Run history:</h3><br/><table class=\"wandb\"><tr><td>accuracy</td><td>▁</td></tr><tr><td>f1</td><td>▁</td></tr><tr><td>npv</td><td>▁</td></tr><tr><td>ppv</td><td>▁</td></tr><tr><td>precision</td><td>▁</td></tr><tr><td>recall</td><td>▁</td></tr><tr><td>roc_auc</td><td>▁</td></tr><tr><td>specificity</td><td>▁</td></tr></table><br/></div><div class=\"wandb-col\"><h3>Run summary:</h3><br/><table class=\"wandb\"><tr><td>accuracy</td><td>0.75</td></tr><tr><td>f1</td><td>0.60443</td></tr><tr><td>npv</td><td>0.91489</td></tr><tr><td>ppv</td><td>0.491</td></tr><tr><td>precision</td><td>0.491</td></tr><tr><td>recall</td><td>0.78601</td></tr><tr><td>roc_auc</td><td>0.84253</td></tr><tr><td>specificity</td><td>0.73844</td></tr></table><br/></div></div>"
      ],
      "text/plain": [
       "<IPython.core.display.HTML object>"
      ]
     },
     "metadata": {},
     "output_type": "display_data"
    },
    {
     "data": {
      "text/html": [
       " View run <strong style=\"color:#cdcd00\">major-sweep-12</strong> at: <a href='https://wandb.ai/mozeart/bankloan_sweep/runs/ds5c28jl' target=\"_blank\">https://wandb.ai/mozeart/bankloan_sweep/runs/ds5c28jl</a><br/>Synced 6 W&B file(s), 5 media file(s), 6 artifact file(s) and 0 other file(s)"
      ],
      "text/plain": [
       "<IPython.core.display.HTML object>"
      ]
     },
     "metadata": {},
     "output_type": "display_data"
    },
    {
     "data": {
      "text/html": [
       "Find logs at: <code>.\\wandb\\run-20231209_193414-ds5c28jl\\logs</code>"
      ],
      "text/plain": [
       "<IPython.core.display.HTML object>"
      ]
     },
     "metadata": {},
     "output_type": "display_data"
    },
    {
     "name": "stderr",
     "output_type": "stream",
     "text": [
      "\u001b[34m\u001b[1mwandb\u001b[0m: Agent Starting Run: twaukrk0 with config:\n",
      "\u001b[34m\u001b[1mwandb\u001b[0m: \tC: 0.2645192458795328\n",
      "\u001b[34m\u001b[1mwandb\u001b[0m: \tclass_weight: None\n",
      "\u001b[34m\u001b[1mwandb\u001b[0m: \tmax_iter: 168\n",
      "\u001b[34m\u001b[1mwandb\u001b[0m: \tpenalty: l1\n",
      "\u001b[34m\u001b[1mwandb\u001b[0m: \tsolver: liblinear\n",
      "Failed to detect the name of this notebook, you can set it manually with the WANDB_NOTEBOOK_NAME environment variable to enable code saving.\n"
     ]
    },
    {
     "data": {
      "text/html": [
       "wandb version 0.16.1 is available!  To upgrade, please run:\n",
       " $ pip install wandb --upgrade"
      ],
      "text/plain": [
       "<IPython.core.display.HTML object>"
      ]
     },
     "metadata": {},
     "output_type": "display_data"
    },
    {
     "data": {
      "text/html": [
       "Tracking run with wandb version 0.16.0"
      ],
      "text/plain": [
       "<IPython.core.display.HTML object>"
      ]
     },
     "metadata": {},
     "output_type": "display_data"
    },
    {
     "data": {
      "text/html": [
       "Run data is saved locally in <code>c:\\Users\\MoZeA\\OneDrive\\Bureau\\Data Courses\\Elective\\Dev(ML)Ops Engineering\\DevOps_final_project\\notebooks\\wandb\\run-20231209_193523-twaukrk0</code>"
      ],
      "text/plain": [
       "<IPython.core.display.HTML object>"
      ]
     },
     "metadata": {},
     "output_type": "display_data"
    },
    {
     "data": {
      "text/html": [
       "Syncing run <strong><a href='https://wandb.ai/mozeart/bankloan_sweep/runs/twaukrk0' target=\"_blank\">absurd-sweep-13</a></strong> to <a href='https://wandb.ai/mozeart/bankloan_sweep' target=\"_blank\">Weights & Biases</a> (<a href='https://wandb.me/run' target=\"_blank\">docs</a>)<br/>Sweep page: <a href='https://wandb.ai/mozeart/bankloan_sweep/sweeps/mj1wox45' target=\"_blank\">https://wandb.ai/mozeart/bankloan_sweep/sweeps/mj1wox45</a>"
      ],
      "text/plain": [
       "<IPython.core.display.HTML object>"
      ]
     },
     "metadata": {},
     "output_type": "display_data"
    },
    {
     "data": {
      "text/html": [
       " View project at <a href='https://wandb.ai/mozeart/bankloan_sweep' target=\"_blank\">https://wandb.ai/mozeart/bankloan_sweep</a>"
      ],
      "text/plain": [
       "<IPython.core.display.HTML object>"
      ]
     },
     "metadata": {},
     "output_type": "display_data"
    },
    {
     "data": {
      "text/html": [
       " View sweep at <a href='https://wandb.ai/mozeart/bankloan_sweep/sweeps/mj1wox45' target=\"_blank\">https://wandb.ai/mozeart/bankloan_sweep/sweeps/mj1wox45</a>"
      ],
      "text/plain": [
       "<IPython.core.display.HTML object>"
      ]
     },
     "metadata": {},
     "output_type": "display_data"
    },
    {
     "data": {
      "text/html": [
       " View run at <a href='https://wandb.ai/mozeart/bankloan_sweep/runs/twaukrk0' target=\"_blank\">https://wandb.ai/mozeart/bankloan_sweep/runs/twaukrk0</a>"
      ],
      "text/plain": [
       "<IPython.core.display.HTML object>"
      ]
     },
     "metadata": {},
     "output_type": "display_data"
    },
    {
     "name": "stderr",
     "output_type": "stream",
     "text": [
      "\u001b[34m\u001b[1mwandb\u001b[0m: Adding directory to artifact (.\\data)... Done. 0.0s\n"
     ]
    },
    {
     "data": {
      "application/vnd.jupyter.widget-view+json": {
       "model_id": "e0c77772533046be86e6d905135fa0ca",
       "version_major": 2,
       "version_minor": 0
      },
      "text/plain": [
       "VBox(children=(Label(value='0.035 MB of 0.035 MB uploaded\\r'), FloatProgress(value=0.9945389169753169, max=1.0…"
      ]
     },
     "metadata": {},
     "output_type": "display_data"
    },
    {
     "data": {
      "text/html": [
       "<style>\n",
       "    table.wandb td:nth-child(1) { padding: 0 10px; text-align: left ; width: auto;} td:nth-child(2) {text-align: left ; width: 100%}\n",
       "    .wandb-row { display: flex; flex-direction: row; flex-wrap: wrap; justify-content: flex-start; width: 100% }\n",
       "    .wandb-col { display: flex; flex-direction: column; flex-basis: 100%; flex: 1; padding: 10px; }\n",
       "    </style>\n",
       "<div class=\"wandb-row\"><div class=\"wandb-col\"><h3>Run history:</h3><br/><table class=\"wandb\"><tr><td>accuracy</td><td>▁</td></tr><tr><td>f1</td><td>▁</td></tr><tr><td>npv</td><td>▁</td></tr><tr><td>ppv</td><td>▁</td></tr><tr><td>precision</td><td>▁</td></tr><tr><td>recall</td><td>▁</td></tr><tr><td>roc_auc</td><td>▁</td></tr><tr><td>specificity</td><td>▁</td></tr></table><br/></div><div class=\"wandb-col\"><h3>Run summary:</h3><br/><table class=\"wandb\"><tr><td>accuracy</td><td>0.749</td></tr><tr><td>f1</td><td>0.60348</td></tr><tr><td>npv</td><td>0.91475</td></tr><tr><td>ppv</td><td>0.48974</td></tr><tr><td>precision</td><td>0.48974</td></tr><tr><td>recall</td><td>0.78601</td></tr><tr><td>roc_auc</td><td>0.84299</td></tr><tr><td>specificity</td><td>0.73712</td></tr></table><br/></div></div>"
      ],
      "text/plain": [
       "<IPython.core.display.HTML object>"
      ]
     },
     "metadata": {},
     "output_type": "display_data"
    },
    {
     "data": {
      "text/html": [
       " View run <strong style=\"color:#cdcd00\">absurd-sweep-13</strong> at: <a href='https://wandb.ai/mozeart/bankloan_sweep/runs/twaukrk0' target=\"_blank\">https://wandb.ai/mozeart/bankloan_sweep/runs/twaukrk0</a><br/>Synced 6 W&B file(s), 5 media file(s), 6 artifact file(s) and 0 other file(s)"
      ],
      "text/plain": [
       "<IPython.core.display.HTML object>"
      ]
     },
     "metadata": {},
     "output_type": "display_data"
    },
    {
     "data": {
      "text/html": [
       "Find logs at: <code>.\\wandb\\run-20231209_193523-twaukrk0\\logs</code>"
      ],
      "text/plain": [
       "<IPython.core.display.HTML object>"
      ]
     },
     "metadata": {},
     "output_type": "display_data"
    },
    {
     "name": "stderr",
     "output_type": "stream",
     "text": [
      "\u001b[34m\u001b[1mwandb\u001b[0m: Sweep Agent: Waiting for job.\n",
      "\u001b[34m\u001b[1mwandb\u001b[0m: Job received.\n",
      "\u001b[34m\u001b[1mwandb\u001b[0m: Agent Starting Run: j6skqpnx with config:\n",
      "\u001b[34m\u001b[1mwandb\u001b[0m: \tC: 6.292073299753262\n",
      "\u001b[34m\u001b[1mwandb\u001b[0m: \tclass_weight: balanced\n",
      "\u001b[34m\u001b[1mwandb\u001b[0m: \tmax_iter: 289\n",
      "\u001b[34m\u001b[1mwandb\u001b[0m: \tpenalty: l1\n",
      "\u001b[34m\u001b[1mwandb\u001b[0m: \tsolver: liblinear\n",
      "Failed to detect the name of this notebook, you can set it manually with the WANDB_NOTEBOOK_NAME environment variable to enable code saving.\n"
     ]
    },
    {
     "data": {
      "text/html": [
       "wandb version 0.16.1 is available!  To upgrade, please run:\n",
       " $ pip install wandb --upgrade"
      ],
      "text/plain": [
       "<IPython.core.display.HTML object>"
      ]
     },
     "metadata": {},
     "output_type": "display_data"
    },
    {
     "data": {
      "text/html": [
       "Tracking run with wandb version 0.16.0"
      ],
      "text/plain": [
       "<IPython.core.display.HTML object>"
      ]
     },
     "metadata": {},
     "output_type": "display_data"
    },
    {
     "data": {
      "text/html": [
       "Run data is saved locally in <code>c:\\Users\\MoZeA\\OneDrive\\Bureau\\Data Courses\\Elective\\Dev(ML)Ops Engineering\\DevOps_final_project\\notebooks\\wandb\\run-20231209_193638-j6skqpnx</code>"
      ],
      "text/plain": [
       "<IPython.core.display.HTML object>"
      ]
     },
     "metadata": {},
     "output_type": "display_data"
    },
    {
     "data": {
      "text/html": [
       "Syncing run <strong><a href='https://wandb.ai/mozeart/bankloan_sweep/runs/j6skqpnx' target=\"_blank\">revived-sweep-14</a></strong> to <a href='https://wandb.ai/mozeart/bankloan_sweep' target=\"_blank\">Weights & Biases</a> (<a href='https://wandb.me/run' target=\"_blank\">docs</a>)<br/>Sweep page: <a href='https://wandb.ai/mozeart/bankloan_sweep/sweeps/mj1wox45' target=\"_blank\">https://wandb.ai/mozeart/bankloan_sweep/sweeps/mj1wox45</a>"
      ],
      "text/plain": [
       "<IPython.core.display.HTML object>"
      ]
     },
     "metadata": {},
     "output_type": "display_data"
    },
    {
     "data": {
      "text/html": [
       " View project at <a href='https://wandb.ai/mozeart/bankloan_sweep' target=\"_blank\">https://wandb.ai/mozeart/bankloan_sweep</a>"
      ],
      "text/plain": [
       "<IPython.core.display.HTML object>"
      ]
     },
     "metadata": {},
     "output_type": "display_data"
    },
    {
     "data": {
      "text/html": [
       " View sweep at <a href='https://wandb.ai/mozeart/bankloan_sweep/sweeps/mj1wox45' target=\"_blank\">https://wandb.ai/mozeart/bankloan_sweep/sweeps/mj1wox45</a>"
      ],
      "text/plain": [
       "<IPython.core.display.HTML object>"
      ]
     },
     "metadata": {},
     "output_type": "display_data"
    },
    {
     "data": {
      "text/html": [
       " View run at <a href='https://wandb.ai/mozeart/bankloan_sweep/runs/j6skqpnx' target=\"_blank\">https://wandb.ai/mozeart/bankloan_sweep/runs/j6skqpnx</a>"
      ],
      "text/plain": [
       "<IPython.core.display.HTML object>"
      ]
     },
     "metadata": {},
     "output_type": "display_data"
    },
    {
     "name": "stderr",
     "output_type": "stream",
     "text": [
      "\u001b[34m\u001b[1mwandb\u001b[0m: Adding directory to artifact (.\\data)... Done. 0.0s\n"
     ]
    },
    {
     "data": {
      "application/vnd.jupyter.widget-view+json": {
       "model_id": "24c60c61955a49c081dd3e46dfa6fc25",
       "version_major": 2,
       "version_minor": 0
      },
      "text/plain": [
       "VBox(children=(Label(value='0.038 MB of 0.038 MB uploaded\\r'), FloatProgress(value=0.994935058422346, max=1.0)…"
      ]
     },
     "metadata": {},
     "output_type": "display_data"
    },
    {
     "data": {
      "text/html": [
       "<style>\n",
       "    table.wandb td:nth-child(1) { padding: 0 10px; text-align: left ; width: auto;} td:nth-child(2) {text-align: left ; width: 100%}\n",
       "    .wandb-row { display: flex; flex-direction: row; flex-wrap: wrap; justify-content: flex-start; width: 100% }\n",
       "    .wandb-col { display: flex; flex-direction: column; flex-basis: 100%; flex: 1; padding: 10px; }\n",
       "    </style>\n",
       "<div class=\"wandb-row\"><div class=\"wandb-col\"><h3>Run history:</h3><br/><table class=\"wandb\"><tr><td>accuracy</td><td>▁</td></tr><tr><td>f1</td><td>▁</td></tr><tr><td>npv</td><td>▁</td></tr><tr><td>ppv</td><td>▁</td></tr><tr><td>precision</td><td>▁</td></tr><tr><td>recall</td><td>▁</td></tr><tr><td>roc_auc</td><td>▁</td></tr><tr><td>specificity</td><td>▁</td></tr></table><br/></div><div class=\"wandb-col\"><h3>Run summary:</h3><br/><table class=\"wandb\"><tr><td>accuracy</td><td>0.75</td></tr><tr><td>f1</td><td>0.60443</td></tr><tr><td>npv</td><td>0.91489</td></tr><tr><td>ppv</td><td>0.491</td></tr><tr><td>precision</td><td>0.491</td></tr><tr><td>recall</td><td>0.78601</td></tr><tr><td>roc_auc</td><td>0.84253</td></tr><tr><td>specificity</td><td>0.73844</td></tr></table><br/></div></div>"
      ],
      "text/plain": [
       "<IPython.core.display.HTML object>"
      ]
     },
     "metadata": {},
     "output_type": "display_data"
    },
    {
     "data": {
      "text/html": [
       " View run <strong style=\"color:#cdcd00\">revived-sweep-14</strong> at: <a href='https://wandb.ai/mozeart/bankloan_sweep/runs/j6skqpnx' target=\"_blank\">https://wandb.ai/mozeart/bankloan_sweep/runs/j6skqpnx</a><br/>Synced 6 W&B file(s), 5 media file(s), 6 artifact file(s) and 0 other file(s)"
      ],
      "text/plain": [
       "<IPython.core.display.HTML object>"
      ]
     },
     "metadata": {},
     "output_type": "display_data"
    },
    {
     "data": {
      "text/html": [
       "Find logs at: <code>.\\wandb\\run-20231209_193638-j6skqpnx\\logs</code>"
      ],
      "text/plain": [
       "<IPython.core.display.HTML object>"
      ]
     },
     "metadata": {},
     "output_type": "display_data"
    },
    {
     "name": "stderr",
     "output_type": "stream",
     "text": [
      "\u001b[34m\u001b[1mwandb\u001b[0m: Agent Starting Run: g73st5vd with config:\n",
      "\u001b[34m\u001b[1mwandb\u001b[0m: \tC: 8.712774120323722\n",
      "\u001b[34m\u001b[1mwandb\u001b[0m: \tclass_weight: None\n",
      "\u001b[34m\u001b[1mwandb\u001b[0m: \tmax_iter: 174\n",
      "\u001b[34m\u001b[1mwandb\u001b[0m: \tpenalty: l2\n",
      "\u001b[34m\u001b[1mwandb\u001b[0m: \tsolver: saga\n",
      "Failed to detect the name of this notebook, you can set it manually with the WANDB_NOTEBOOK_NAME environment variable to enable code saving.\n"
     ]
    },
    {
     "data": {
      "text/html": [
       "wandb version 0.16.1 is available!  To upgrade, please run:\n",
       " $ pip install wandb --upgrade"
      ],
      "text/plain": [
       "<IPython.core.display.HTML object>"
      ]
     },
     "metadata": {},
     "output_type": "display_data"
    },
    {
     "data": {
      "text/html": [
       "Tracking run with wandb version 0.16.0"
      ],
      "text/plain": [
       "<IPython.core.display.HTML object>"
      ]
     },
     "metadata": {},
     "output_type": "display_data"
    },
    {
     "data": {
      "text/html": [
       "Run data is saved locally in <code>c:\\Users\\MoZeA\\OneDrive\\Bureau\\Data Courses\\Elective\\Dev(ML)Ops Engineering\\DevOps_final_project\\notebooks\\wandb\\run-20231209_193744-g73st5vd</code>"
      ],
      "text/plain": [
       "<IPython.core.display.HTML object>"
      ]
     },
     "metadata": {},
     "output_type": "display_data"
    },
    {
     "data": {
      "text/html": [
       "Syncing run <strong><a href='https://wandb.ai/mozeart/bankloan_sweep/runs/g73st5vd' target=\"_blank\">wobbly-sweep-15</a></strong> to <a href='https://wandb.ai/mozeart/bankloan_sweep' target=\"_blank\">Weights & Biases</a> (<a href='https://wandb.me/run' target=\"_blank\">docs</a>)<br/>Sweep page: <a href='https://wandb.ai/mozeart/bankloan_sweep/sweeps/mj1wox45' target=\"_blank\">https://wandb.ai/mozeart/bankloan_sweep/sweeps/mj1wox45</a>"
      ],
      "text/plain": [
       "<IPython.core.display.HTML object>"
      ]
     },
     "metadata": {},
     "output_type": "display_data"
    },
    {
     "data": {
      "text/html": [
       " View project at <a href='https://wandb.ai/mozeart/bankloan_sweep' target=\"_blank\">https://wandb.ai/mozeart/bankloan_sweep</a>"
      ],
      "text/plain": [
       "<IPython.core.display.HTML object>"
      ]
     },
     "metadata": {},
     "output_type": "display_data"
    },
    {
     "data": {
      "text/html": [
       " View sweep at <a href='https://wandb.ai/mozeart/bankloan_sweep/sweeps/mj1wox45' target=\"_blank\">https://wandb.ai/mozeart/bankloan_sweep/sweeps/mj1wox45</a>"
      ],
      "text/plain": [
       "<IPython.core.display.HTML object>"
      ]
     },
     "metadata": {},
     "output_type": "display_data"
    },
    {
     "data": {
      "text/html": [
       " View run at <a href='https://wandb.ai/mozeart/bankloan_sweep/runs/g73st5vd' target=\"_blank\">https://wandb.ai/mozeart/bankloan_sweep/runs/g73st5vd</a>"
      ],
      "text/plain": [
       "<IPython.core.display.HTML object>"
      ]
     },
     "metadata": {},
     "output_type": "display_data"
    },
    {
     "name": "stderr",
     "output_type": "stream",
     "text": [
      "\u001b[34m\u001b[1mwandb\u001b[0m: Adding directory to artifact (.\\data)... Done. 0.0s\n"
     ]
    },
    {
     "data": {
      "application/vnd.jupyter.widget-view+json": {
       "model_id": "7baf0597e266491bbfbd0b304d0c634f",
       "version_major": 2,
       "version_minor": 0
      },
      "text/plain": [
       "VBox(children=(Label(value='0.040 MB of 0.040 MB uploaded\\r'), FloatProgress(value=0.9951477300024021, max=1.0…"
      ]
     },
     "metadata": {},
     "output_type": "display_data"
    },
    {
     "data": {
      "text/html": [
       "<style>\n",
       "    table.wandb td:nth-child(1) { padding: 0 10px; text-align: left ; width: auto;} td:nth-child(2) {text-align: left ; width: 100%}\n",
       "    .wandb-row { display: flex; flex-direction: row; flex-wrap: wrap; justify-content: flex-start; width: 100% }\n",
       "    .wandb-col { display: flex; flex-direction: column; flex-basis: 100%; flex: 1; padding: 10px; }\n",
       "    </style>\n",
       "<div class=\"wandb-row\"><div class=\"wandb-col\"><h3>Run history:</h3><br/><table class=\"wandb\"><tr><td>accuracy</td><td>▁</td></tr><tr><td>f1</td><td>▁</td></tr><tr><td>npv</td><td>▁</td></tr><tr><td>ppv</td><td>▁</td></tr><tr><td>precision</td><td>▁</td></tr><tr><td>recall</td><td>▁</td></tr><tr><td>roc_auc</td><td>▁</td></tr><tr><td>specificity</td><td>▁</td></tr></table><br/></div><div class=\"wandb-col\"><h3>Run summary:</h3><br/><table class=\"wandb\"><tr><td>accuracy</td><td>0.75</td></tr><tr><td>f1</td><td>0.60443</td></tr><tr><td>npv</td><td>0.91489</td></tr><tr><td>ppv</td><td>0.491</td></tr><tr><td>precision</td><td>0.491</td></tr><tr><td>recall</td><td>0.78601</td></tr><tr><td>roc_auc</td><td>0.84258</td></tr><tr><td>specificity</td><td>0.73844</td></tr></table><br/></div></div>"
      ],
      "text/plain": [
       "<IPython.core.display.HTML object>"
      ]
     },
     "metadata": {},
     "output_type": "display_data"
    },
    {
     "data": {
      "text/html": [
       " View run <strong style=\"color:#cdcd00\">wobbly-sweep-15</strong> at: <a href='https://wandb.ai/mozeart/bankloan_sweep/runs/g73st5vd' target=\"_blank\">https://wandb.ai/mozeart/bankloan_sweep/runs/g73st5vd</a><br/>Synced 6 W&B file(s), 5 media file(s), 6 artifact file(s) and 0 other file(s)"
      ],
      "text/plain": [
       "<IPython.core.display.HTML object>"
      ]
     },
     "metadata": {},
     "output_type": "display_data"
    },
    {
     "data": {
      "text/html": [
       "Find logs at: <code>.\\wandb\\run-20231209_193744-g73st5vd\\logs</code>"
      ],
      "text/plain": [
       "<IPython.core.display.HTML object>"
      ]
     },
     "metadata": {},
     "output_type": "display_data"
    }
   ],
   "source": [
    "sweep_id = wandb.sweep(sweep=sweep_config, project='bankloan_sweep')\n",
    "wandb.agent(sweep_id, function=sweep, count=15)  "
   ]
  }
 ],
 "metadata": {
  "kernelspec": {
   "display_name": "base",
   "language": "python",
   "name": "python3"
  },
  "language_info": {
   "codemirror_mode": {
    "name": "ipython",
    "version": 3
   },
   "file_extension": ".py",
   "mimetype": "text/x-python",
   "name": "python",
   "nbconvert_exporter": "python",
   "pygments_lexer": "ipython3",
   "version": "3.9.7"
  }
 },
 "nbformat": 4,
 "nbformat_minor": 2
}
